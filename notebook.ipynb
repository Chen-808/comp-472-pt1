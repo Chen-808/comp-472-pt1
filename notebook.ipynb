{
 "cells": [
  {
   "cell_type": "markdown",
   "metadata": {},
   "source": [
    "# COMP 472 - Mini Project 1"
   ]
  },
  {
   "cell_type": "markdown",
   "metadata": {},
   "source": [
    "## Load dataset"
   ]
  },
  {
   "cell_type": "markdown",
   "metadata": {},
   "source": [
    "Here we will be extracting and reading the JSON file into a Pandas DataFrame. We decided to use `pd.read_json()` rather than `json.load()` since DataFrames give us a more pleasant data type to work with."
   ]
  },
  {
   "cell_type": "code",
   "execution_count": 1,
   "metadata": {},
   "outputs": [],
   "source": [
    "import gzip\n",
    "import json\n",
    "import pandas as pd\n",
    "\n",
    "# Read JSON file into Pandas DataFrame\n",
    "f = gzip.open('goemotions.json.gz', 'rb')\n",
    "df = pd.read_json(f)\n",
    "df.columns = ['comment', 'emotion', 'sentiment']\n",
    "\n",
    "# Close file\n",
    "f.close()"
   ]
  },
  {
   "cell_type": "markdown",
   "metadata": {},
   "source": [
    "Calling `DataFrame.head()` gives us a nice visual of our data."
   ]
  },
  {
   "cell_type": "code",
   "execution_count": 2,
   "metadata": {},
   "outputs": [
    {
     "data": {
      "text/html": [
       "<div>\n",
       "<style scoped>\n",
       "    .dataframe tbody tr th:only-of-type {\n",
       "        vertical-align: middle;\n",
       "    }\n",
       "\n",
       "    .dataframe tbody tr th {\n",
       "        vertical-align: top;\n",
       "    }\n",
       "\n",
       "    .dataframe thead th {\n",
       "        text-align: right;\n",
       "    }\n",
       "</style>\n",
       "<table border=\"1\" class=\"dataframe\">\n",
       "  <thead>\n",
       "    <tr style=\"text-align: right;\">\n",
       "      <th></th>\n",
       "      <th>comment</th>\n",
       "      <th>emotion</th>\n",
       "      <th>sentiment</th>\n",
       "    </tr>\n",
       "  </thead>\n",
       "  <tbody>\n",
       "    <tr>\n",
       "      <th>0</th>\n",
       "      <td>That game hurt.</td>\n",
       "      <td>sadness</td>\n",
       "      <td>negative</td>\n",
       "    </tr>\n",
       "    <tr>\n",
       "      <th>1</th>\n",
       "      <td>You do right, if you don't care then fuck 'em!</td>\n",
       "      <td>neutral</td>\n",
       "      <td>neutral</td>\n",
       "    </tr>\n",
       "    <tr>\n",
       "      <th>2</th>\n",
       "      <td>Man I love reddit.</td>\n",
       "      <td>love</td>\n",
       "      <td>positive</td>\n",
       "    </tr>\n",
       "    <tr>\n",
       "      <th>3</th>\n",
       "      <td>[NAME] was nowhere near them, he was by the Fa...</td>\n",
       "      <td>neutral</td>\n",
       "      <td>neutral</td>\n",
       "    </tr>\n",
       "    <tr>\n",
       "      <th>4</th>\n",
       "      <td>Right? Considering it’s such an important docu...</td>\n",
       "      <td>gratitude</td>\n",
       "      <td>positive</td>\n",
       "    </tr>\n",
       "    <tr>\n",
       "      <th>5</th>\n",
       "      <td>He isn't as big, but he's still quite popular....</td>\n",
       "      <td>disapproval</td>\n",
       "      <td>negative</td>\n",
       "    </tr>\n",
       "    <tr>\n",
       "      <th>6</th>\n",
       "      <td>That's crazy; I went to a super [RELIGION] hig...</td>\n",
       "      <td>amusement</td>\n",
       "      <td>positive</td>\n",
       "    </tr>\n",
       "    <tr>\n",
       "      <th>7</th>\n",
       "      <td>that's adorable asf</td>\n",
       "      <td>amusement</td>\n",
       "      <td>positive</td>\n",
       "    </tr>\n",
       "    <tr>\n",
       "      <th>8</th>\n",
       "      <td>\"Sponge Blurb Pubs Quaw Haha GURR ha AAa!\" fin...</td>\n",
       "      <td>amusement</td>\n",
       "      <td>positive</td>\n",
       "    </tr>\n",
       "    <tr>\n",
       "      <th>9</th>\n",
       "      <td>I have, and now that you mention it, I think t...</td>\n",
       "      <td>neutral</td>\n",
       "      <td>neutral</td>\n",
       "    </tr>\n",
       "  </tbody>\n",
       "</table>\n",
       "</div>"
      ],
      "text/plain": [
       "                                             comment      emotion sentiment\n",
       "0                                    That game hurt.      sadness  negative\n",
       "1     You do right, if you don't care then fuck 'em!      neutral   neutral\n",
       "2                                 Man I love reddit.         love  positive\n",
       "3  [NAME] was nowhere near them, he was by the Fa...      neutral   neutral\n",
       "4  Right? Considering it’s such an important docu...    gratitude  positive\n",
       "5  He isn't as big, but he's still quite popular....  disapproval  negative\n",
       "6  That's crazy; I went to a super [RELIGION] hig...    amusement  positive\n",
       "7                                that's adorable asf    amusement  positive\n",
       "8  \"Sponge Blurb Pubs Quaw Haha GURR ha AAa!\" fin...    amusement  positive\n",
       "9  I have, and now that you mention it, I think t...      neutral   neutral"
      ]
     },
     "execution_count": 2,
     "metadata": {},
     "output_type": "execute_result"
    }
   ],
   "source": [
    "df.head(10)"
   ]
  },
  {
   "cell_type": "markdown",
   "metadata": {},
   "source": [
    "## Plotting Data"
   ]
  },
  {
   "cell_type": "code",
   "execution_count": 3,
   "metadata": {},
   "outputs": [
    {
     "data": {
      "image/png": "[encoded data removed]",
      "text/plain": [
       "<Figure size 432x288 with 1 Axes>"
      ]
     },
     "metadata": {},
     "output_type": "display_data"
    }
   ],
   "source": [
    "import matplotlib.pyplot as plt\n",
    "\n",
    "sentiment = df.groupby(['sentiment'])['sentiment'].count()\n",
    "\n",
    "plt.title('GoEmotions by Sentiment')\n",
    "plt.pie(sentiment, labels = sentiment.index, autopct = '%1.2f%%')\n",
    "plt.show()"
   ]
  },
  {
   "cell_type": "code",
   "execution_count": 4,
   "metadata": {},
   "outputs": [
    {
     "data": {
      "image/png": "[encoded data removed]",
      "text/plain": [
       "<Figure size 432x288 with 1 Axes>"
      ]
     },
     "metadata": {
      "needs_background": "light"
     },
     "output_type": "display_data"
    }
   ],
   "source": [
    "emotion = df.groupby(['emotion'])['emotion'].count().sort_values(ascending=False)\n",
    "\n",
    "plt.bar(emotion.index, emotion)\n",
    "plt.xticks(\n",
    "    rotation=90, \n",
    "    fontweight='light',\n",
    ")\n",
    "\n",
    "plt.title('GoEmotion by Emotion')\n",
    "plt.xlabel('Emotion')\n",
    "plt.ylabel('Number of Comments')\n",
    "\n",
    "plt.show()"
   ]
  },
  {
   "cell_type": "markdown",
   "metadata": {},
   "source": [
    "## Words as Features"
   ]
  },
  {
   "cell_type": "code",
   "execution_count": 5,
   "metadata": {},
   "outputs": [
    {
     "name": "stdout",
     "output_type": "stream",
     "text": [
      "<class 'scipy.sparse.csr.csr_matrix'>\n"
     ]
    }
   ],
   "source": [
    "from sklearn.feature_extraction.text import CountVectorizer\n",
    "\n",
    "vectorizer = CountVectorizer()\n",
    "\n",
    "comment_vector = vectorizer.fit_transform(df['comment'])\n",
    "print(type(comment_vector))"
   ]
  },
  {
   "cell_type": "code",
   "execution_count": 6,
   "metadata": {},
   "outputs": [
    {
     "name": "stdout",
     "output_type": "stream",
     "text": [
      "Vocabulary size: 30449\n"
     ]
    }
   ],
   "source": [
    "vocab_size = comment_vector.shape[1]\n",
    "print(\"Vocabulary size: \" + str(vocab_size))"
   ]
  },
  {
   "cell_type": "code",
   "execution_count": 7,
   "metadata": {},
   "outputs": [],
   "source": [
    "#splitting the data into training and testing sets\n",
    "from sklearn.model_selection import train_test_split\n",
    "\n",
    "x_train, x_test, y_train, y_test = train_test_split(comment_vector, df, test_size=0.2)"
   ]
  },
  {
   "cell_type": "markdown",
   "metadata": {},
   "source": [
    "#### Multinomial Naive bayes"
   ]
  },
  {
   "cell_type": "code",
   "execution_count": 8,
   "metadata": {},
   "outputs": [],
   "source": [
    "from sklearn.naive_bayes import MultinomialNB\n",
    "\n",
    "#Emotion classifier\n",
    "nb_classifier = MultinomialNB()\n",
    "nb_emotion_model = nb_classifier.fit(x_train, y_train['emotion'])"
   ]
  },
  {
   "cell_type": "code",
   "execution_count": 9,
   "metadata": {},
   "outputs": [
    {
     "data": {
      "text/plain": [
       "array(['gratitude'], dtype='<U14')"
      ]
     },
     "execution_count": 9,
     "metadata": {},
     "output_type": "execute_result"
    }
   ],
   "source": [
    "v = vectorizer.transform(['Thank you!'])\n",
    "nb_emotion_model.predict(v)"
   ]
  },
  {
   "cell_type": "code",
   "execution_count": 10,
   "metadata": {},
   "outputs": [
    {
     "data": {
      "text/plain": [
       "array(['positive'], dtype='<U9')"
      ]
     },
     "execution_count": 10,
     "metadata": {},
     "output_type": "execute_result"
    }
   ],
   "source": [
    "#Sentiment classifier\n",
    "nb_sentiment_model = nb_classifier.fit(x_train, y_train['sentiment'])\n",
    "v = vectorizer.transform(['Thank you!'])\n",
    "nb_sentiment_model.predict(v)"
   ]
  },
  {
   "cell_type": "markdown",
   "metadata": {},
   "source": [
    "##### Decision Tree"
   ]
  },
  {
   "cell_type": "code",
   "execution_count": 11,
   "metadata": {
    "scrolled": true
   },
   "outputs": [
    {
     "data": {
      "text/plain": [
       "DecisionTreeClassifier(criterion='entropy')"
      ]
     },
     "execution_count": 11,
     "metadata": {},
     "output_type": "execute_result"
    }
   ],
   "source": [
    "from sklearn import tree\n",
    "from sklearn import preprocessing\n",
    "\n",
    "#Emotion classifier\n",
    "dtc_emotion_model = tree.DecisionTreeClassifier(criterion=\"entropy\")\n",
    "dtc_emotion_model.fit(x_train, y_train['emotion'])\n",
    "\n",
    "\n",
    "#predictEmotionFromDT = dtc_emotion_model.predict(x_test[0:5])\n",
    "#print(x_test[0:5])\n",
    "#print(predictEmotionFromDT)"
   ]
  },
  {
   "cell_type": "code",
   "execution_count": 12,
   "metadata": {},
   "outputs": [
    {
     "data": {
      "text/plain": [
       "DecisionTreeClassifier(criterion='entropy')"
      ]
     },
     "execution_count": 12,
     "metadata": {},
     "output_type": "execute_result"
    }
   ],
   "source": [
    "#Sentiment classifier\n",
    "dtc_sentiment_model = tree.DecisionTreeClassifier(criterion=\"entropy\")\n",
    "dtc_sentiment_model.fit(x_train, y_train['sentiment'])\n",
    "#predictSentimentFromDT = dtc_sentiment_model.predict(x_test[0:5])\n",
    "#print(predictSentimentFromDT)"
   ]
  },
  {
   "cell_type": "markdown",
   "metadata": {},
   "source": [
    "##### Multi-Layered Perceptron"
   ]
  },
  {
   "cell_type": "code",
   "execution_count": 13,
   "metadata": {},
   "outputs": [
    {
     "name": "stderr",
     "output_type": "stream",
     "text": [
      "/Users/pashapishdad/opt/anaconda3/lib/python3.9/site-packages/sklearn/neural_network/_multilayer_perceptron.py:692: ConvergenceWarning: Stochastic Optimizer: Maximum iterations (10) reached and the optimization hasn't converged yet.\n",
      "  warnings.warn(\n",
      "/Users/pashapishdad/opt/anaconda3/lib/python3.9/site-packages/sklearn/neural_network/_multilayer_perceptron.py:692: ConvergenceWarning: Stochastic Optimizer: Maximum iterations (10) reached and the optimization hasn't converged yet.\n",
      "  warnings.warn(\n"
     ]
    },
    {
     "data": {
      "text/plain": [
       "MLPClassifier(max_iter=10)"
      ]
     },
     "execution_count": 13,
     "metadata": {},
     "output_type": "execute_result"
    }
   ],
   "source": [
    "from sklearn.neural_network import MLPClassifier\n",
    "\n",
    "# Multi-Layered Perceptron classifier for emotion classification\n",
    "mlpcClassifierEmotion = MLPClassifier(max_iter=10)\n",
    "mlpcClassifierEmotion.fit(x_train, y_train['emotion'])\n",
    "\n",
    "# Multi-Layered Perceptron classifier for sentiment classification\n",
    "mlpcClassifierSentiment = MLPClassifier(max_iter=10)\n",
    "mlpcClassifierSentiment.fit(x_train, y_train['sentiment'])\n",
    "# mlpcClassifierEmotion.predict(x_test)\n",
    "# mlpcClassifierEmotion.score(x_test, y_test['emotion'])"
   ]
  },
  {
   "cell_type": "code",
   "execution_count": 16,
   "metadata": {},
   "outputs": [
    {
     "name": "stdout",
     "output_type": "stream",
     "text": [
      "emotion score:  0.39969153765568616\n",
      "sentiment score:  0.1873181236177395\n"
     ]
    }
   ],
   "source": [
    "mlpcClassifierEmotion.predict(x_test)\n",
    "print(\"emotion score: \", mlpcClassifierEmotion.score(x_test, y_test['emotion']))\n",
    "\n",
    "mlpcClassifierSentiment.predict(x_test)\n",
    "print(\"sentiment score: \",mlpcClassifierEmotion.score(x_test, y_test['sentiment']))"
   ]
  },
  {
   "cell_type": "markdown",
   "metadata": {},
   "source": [
    "## Performance"
   ]
  },
  {
   "cell_type": "code",
   "execution_count": 70,
   "metadata": {},
   "outputs": [],
   "source": [
    "from sklearn.metrics import classification_report\n",
    "from sklearn.metrics import confusion_matrix\n",
    "\n",
    "performanceFile = open(\"Performane.txt\", \"w\")"
   ]
  },
  {
   "cell_type": "markdown",
   "metadata": {},
   "source": [
    "##### Multinomial Naive Bayes"
   ]
  },
  {
   "cell_type": "code",
   "execution_count": 19,
   "metadata": {},
   "outputs": [
    {
     "name": "stderr",
     "output_type": "stream",
     "text": [
      "/Users/pashapishdad/opt/anaconda3/lib/python3.9/site-packages/sklearn/metrics/_classification.py:1318: UndefinedMetricWarning: Precision and F-score are ill-defined and being set to 0.0 in labels with no predicted samples. Use `zero_division` parameter to control this behavior.\n",
      "  _warn_prf(average, modifier, msg_start, len(result))\n",
      "/Users/pashapishdad/opt/anaconda3/lib/python3.9/site-packages/sklearn/metrics/_classification.py:1318: UndefinedMetricWarning: Recall and F-score are ill-defined and being set to 0.0 in labels with no true samples. Use `zero_division` parameter to control this behavior.\n",
      "  _warn_prf(average, modifier, msg_start, len(result))\n",
      "/Users/pashapishdad/opt/anaconda3/lib/python3.9/site-packages/sklearn/metrics/_classification.py:1318: UndefinedMetricWarning: Precision and F-score are ill-defined and being set to 0.0 in labels with no predicted samples. Use `zero_division` parameter to control this behavior.\n",
      "  _warn_prf(average, modifier, msg_start, len(result))\n",
      "/Users/pashapishdad/opt/anaconda3/lib/python3.9/site-packages/sklearn/metrics/_classification.py:1318: UndefinedMetricWarning: Recall and F-score are ill-defined and being set to 0.0 in labels with no true samples. Use `zero_division` parameter to control this behavior.\n",
      "  _warn_prf(average, modifier, msg_start, len(result))\n",
      "/Users/pashapishdad/opt/anaconda3/lib/python3.9/site-packages/sklearn/metrics/_classification.py:1318: UndefinedMetricWarning: Precision and F-score are ill-defined and being set to 0.0 in labels with no predicted samples. Use `zero_division` parameter to control this behavior.\n",
      "  _warn_prf(average, modifier, msg_start, len(result))\n",
      "/Users/pashapishdad/opt/anaconda3/lib/python3.9/site-packages/sklearn/metrics/_classification.py:1318: UndefinedMetricWarning: Recall and F-score are ill-defined and being set to 0.0 in labels with no true samples. Use `zero_division` parameter to control this behavior.\n",
      "  _warn_prf(average, modifier, msg_start, len(result))\n"
     ]
    }
   ],
   "source": [
    "#Performance of emotion classifier\n",
    "nb_emotion_model_prediction = nb_emotion_model.predict(x_test)\n",
    "mnb_emotion_report = classification_report(y_test['emotion'], nb_emotion_model_prediction)\n",
    "#print(mnb_emotion_report)\n",
    "# Confusion matrix\n",
    "mnb_emotion_confusion_matrix = confusion_matrix(y_test['emotion'], nb_emotion_model_prediction)\n",
    "#print(mnb_emotion_confusion_matrix)"
   ]
  },
  {
   "cell_type": "code",
   "execution_count": 20,
   "metadata": {},
   "outputs": [],
   "source": [
    "#Performance of sentiment classifier\n",
    "nb_sentiment_model_prediction = nb_sentiment_model.predict(x_test)\n",
    "mnb_sentiment_report = classification_report(y_test['sentiment'], nb_sentiment_model_prediction)\n",
    "#print(mnb_sentiment_report)\n",
    "# Confusion matrix\n",
    "mnb_sentiment_confusion_matrix = confusion_matrix(y_test['sentiment'], nb_sentiment_model_prediction)\n",
    "#print(mnb_sentiment_confusion_matrix)"
   ]
  },
  {
   "cell_type": "code",
   "execution_count": null,
   "metadata": {},
   "outputs": [],
   "source": []
  },
  {
   "cell_type": "markdown",
   "metadata": {},
   "source": [
    "##### Decision Tree"
   ]
  },
  {
   "cell_type": "code",
   "execution_count": 21,
   "metadata": {},
   "outputs": [],
   "source": [
    "#Performance of emotion classifier\n",
    "\n",
    "DT_emotion_model_prediction = dtc_emotion_model.predict(x_test)\n",
    "DT_emotion_report = classification_report(y_test['emotion'], DT_emotion_model_prediction)\n",
    "\n",
    "#Confusion matrix\n",
    "DT_emotion_confusion_matrix = confusion_matrix(y_test['emotion'], DT_emotion_model_prediction)"
   ]
  },
  {
   "cell_type": "code",
   "execution_count": 22,
   "metadata": {},
   "outputs": [],
   "source": [
    "#Performance of sentiment classifier\n",
    "\n",
    "DT_sentiment_model_prediction = dtc_sentiment_model.predict(x_test)\n",
    "DT_sentiment_report = classification_report(y_test['sentiment'], DT_sentiment_model_prediction)\n",
    "\n",
    "#Confusion matrix\n",
    "DT_sentiment_confusion_matrix = confusion_matrix(y_test['sentiment'], DT_sentiment_model_prediction)"
   ]
  },
  {
   "cell_type": "markdown",
   "metadata": {},
   "source": [
    "##### Multi-Layered Perceptron"
   ]
  },
  {
   "cell_type": "code",
   "execution_count": 71,
   "metadata": {},
   "outputs": [
    {
     "name": "stdout",
     "output_type": "stream",
     "text": [
      "                precision    recall  f1-score   support\n",
      "\n",
      "    admiration       0.47      0.52      0.49      2056\n",
      "     amusement       0.50      0.53      0.52      1248\n",
      "         anger       0.31      0.29      0.30      1012\n",
      "     annoyance       0.19      0.14      0.16      1744\n",
      "      approval       0.23      0.16      0.19      2172\n",
      "        caring       0.25      0.23      0.24       705\n",
      "     confusion       0.27      0.22      0.24       998\n",
      "     curiosity       0.33      0.29      0.31      1152\n",
      "        desire       0.25      0.27      0.26       434\n",
      "disappointment       0.17      0.16      0.17       932\n",
      "   disapproval       0.25      0.22      0.23      1537\n",
      "       disgust       0.25      0.23      0.24       582\n",
      " embarrassment       0.18      0.19      0.18       280\n",
      "    excitement       0.27      0.18      0.22       639\n",
      "          fear       0.42      0.42      0.42       369\n",
      "     gratitude       0.76      0.74      0.75      1377\n",
      "         grief       0.09      0.09      0.09        75\n",
      "           joy       0.30      0.29      0.29       896\n",
      "          love       0.52      0.64      0.57       953\n",
      "   nervousness       0.18      0.16      0.17       146\n",
      "       neutral       0.48      0.58      0.53     11132\n",
      "      optimism       0.36      0.28      0.32       938\n",
      "         pride       0.14      0.10      0.11       145\n",
      "   realization       0.18      0.12      0.14       937\n",
      "        relief       0.12      0.09      0.10       161\n",
      "       remorse       0.34      0.44      0.38       301\n",
      "       sadness       0.33      0.30      0.32       780\n",
      "      surprise       0.31      0.32      0.32       663\n",
      "\n",
      "      accuracy                           0.40     34364\n",
      "     macro avg       0.30      0.29      0.30     34364\n",
      "  weighted avg       0.38      0.40      0.39     34364\n",
      "\n",
      "[[1076   39   18   25   74   17    4   14   10    6   17    8    2   51\n",
      "     3   56    0   61  100    0  353   31   11   21    6    1    7   45]\n",
      " [  42  667   14   33   24    6    5    7    8   13   16    5    6   13\n",
      "     4    7    2   81   20    0  224    8    1   12    2    5    6   17]\n",
      " [  13   12  298  117   16   11   13   14    7   31   45   40    9    6\n",
      "     9    3    5    4   10    1  304    5    1   10    4    3   13    8]\n",
      " [  37   45  131  240   53   30   34   44   12   72  101   65   28    9\n",
      "    17   16    2    9   20    8  650   10    2   27    3   15   37   27]\n",
      " [ 156   30   28   61  337   41   32   26   26   29   66   14    8   27\n",
      "    14   23    3   43   51    6  988   53    8   36   12   10   22   22]\n",
      " [  29    6    9   15   33  163    6    7    9   15   22    0    2    1\n",
      "     4   11    2   11   11    5  273   33    1    4    4   11   17    1]\n",
      " [  16   17   12   28   33    9  215  120    4   15   46    6   10    4\n",
      "     4    3    2    2    7    0  382    8    4   17    1    8   11   14]\n",
      " [  27   21   13   25   25   17   98  331    7   11   12    9    6   21\n",
      "     8    5    0    8    9    1  434    8    2   12    0    6    7   29]\n",
      " [  11    7    5   10   19    7    2    6  119    5   13    0    1    5\n",
      "     5    7    0    7   18    2  138   29    1    6    3    0    5    3]\n",
      " [  11   20   26   62   35   12   18   11   10  153   47   26    7    6\n",
      "     5    8    3   10    8   12  313   10    3   18    5   16   65   12]\n",
      " [  28   24   34   88   64   21   38   20   12   71  338   32   15    9\n",
      "     6    8    4    9    5    5  592   25    1   34    0    5   36   13]\n",
      " [   8    8   55   52   15    4    8    5    3   23   30  136   18    2\n",
      "    20    2    0    2    5    1  157    1    0    5    0    3   15    4]\n",
      " [   1    3    8   23    8    2    8    1    2   19   14   13   52    0\n",
      "     4    0    1    4    3    0   84    0    0    6    0    9    8    7]\n",
      " [  61   13   11   14   22    6    3   23   10    7    6    4    0  116\n",
      "     3   14    0   55   20    4  189   11    1    7    1    0    8   30]\n",
      " [   6    5    8    9    6    3    2    8    2   16   17   12    1    1\n",
      "   154    1    0    3    2    5   85    3    1    7    1    4    3    4]\n",
      " [ 102    9    1    8   10   15    3    3    7    3    8    3    2    5\n",
      "     1 1016    2   38   12    0   61   18    2    5    8   22    6    7]\n",
      " [   2    0    2    2    0    1    0    0    2    4    2    1    1    0\n",
      "     2    3    7    1    0    0   25    1    0    2    0    5   12    0]\n",
      " [  87  105    2    9   27   17    3    4    8    6   11    1    1   26\n",
      "     1   36    1  258   69    3  163   16    4    5   15    2    3   13]\n",
      " [  74   13    3    2   20    6    2    1    3    7    4    0    1    6\n",
      "     0    4    2   42  614    0  126    8    0    4    2    2    4    3]\n",
      " [   0    1    2    4    4    6    4    2    3   17    6    0    1    1\n",
      "     7    0    1    0    2   24   48    2    0    1    0    3    5    2]\n",
      " [ 354  240  237  313  482  180  240  291  154  227  388  122   76   91\n",
      "    72   68   19  154  159   38 6437  162   36  226   26   43  137  160]\n",
      " [  43   15   11   13   42   39    7   10   37   14   31    5    5    8\n",
      "     5   14    0   19   11    0  307  266    5   10    5    3    5    8]\n",
      " [  25    1    3    3   15    1    0    2    0    2    5    0    1    3\n",
      "     1    3    0    8    0    0   47    4   14    2    1    2    1    1]\n",
      " [  27   13   15   20   59   11   17   13   11   15   48   11    5    5\n",
      "     6    5    4    6   10    5  451   10    1  109    2   14   15   29]\n",
      " [  13    2    0    2   10   10    0    2    4    5    1    2    0    1\n",
      "     1   12    0    9    2    1   55    4    1    3   14    0    4    3]\n",
      " [   3    4    1    4    9    6    0    1    3   11   11    4    7    1\n",
      "     1    4    3    0    3    2   47   10    0    5    0  133   28    0]\n",
      " [   5   11   11   30   11   14    5    8    3   67   26   11   13    0\n",
      "     6    7    9    5   10   10  197    6    1    7    2   65  237    3]\n",
      " [  35   11   13   20   11    6   20   26    2   17   18    9    5   17\n",
      "     5    1    2   11    3    1  196    2    1   13    1    2    4  211]]\n",
      "              precision    recall  f1-score   support\n",
      "\n",
      "   ambiguous       0.42      0.35      0.38      3750\n",
      "    negative       0.54      0.57      0.56      7758\n",
      "     neutral       0.52      0.50      0.51     11132\n",
      "    positive       0.66      0.69      0.67     11724\n",
      "\n",
      "    accuracy                           0.56     34364\n",
      "   macro avg       0.53      0.53      0.53     34364\n",
      "weighted avg       0.56      0.56      0.56     34364\n",
      "\n",
      "[[1305  617 1203  625]\n",
      " [ 451 4459 1834 1014]\n",
      " [ 932 2061 5572 2567]\n",
      " [ 444 1058 2185 8037]]\n"
     ]
    }
   ],
   "source": [
    "performanceFile.write(\"Multi-layered Perceptron classifier for 'emotion'\\n\\n\")\n",
    "\n",
    "#Performance of emotion classifier\n",
    "print(classification_report(y_test['emotion'], mlpcClassifierEmotion.predict(x_test)))\n",
    "performanceFile.write(classification_report(y_test['emotion'], mlpcClassifierEmotion.predict(x_test)))\n",
    "\n",
    "#Confusion matrix\n",
    "print(confusion_matrix(y_test['emotion'], mlpcClassifierEmotion.predict(x_test)))\n",
    "performanceFile.write(str(confusion_matrix(y_test['emotion'], mlpcClassifierEmotion.predict(x_test))))\n",
    "\n",
    "performanceFile.write(\"\\n\\nMulti-layered Perceptron classifier for 'sentiment'\\n\\n\")\n",
    "\n",
    "#Performance of emotion classifier\n",
    "print(classification_report(y_test['sentiment'], mlpcClassifierSentiment.predict(x_test)))\n",
    "performanceFile.write(classification_report(y_test['sentiment'], mlpcClassifierSentiment.predict(x_test)))\n",
    "\n",
    "#Confusion matrix\n",
    "print(confusion_matrix(y_test['sentiment'], mlpcClassifierSentiment.predict(x_test)))\n",
    "performanceFile.write(str(confusion_matrix(y_test['sentiment'], mlpcClassifierSentiment.predict(x_test))))\n",
    "\n",
    "\n",
    "performanceFile.close()"
   ]
  },
  {
   "cell_type": "markdown",
   "metadata": {},
   "source": [
    "## Exploration: different splits of training & test sets"
   ]
  },
  {
   "cell_type": "markdown",
   "metadata": {},
   "source": [
    "##### Multinomial Naive bayes"
   ]
  },
  {
   "cell_type": "code",
   "execution_count": 18,
   "metadata": {},
   "outputs": [],
   "source": [
    "#50% train, 50% test\n",
    "nb_xTrain, nb_xtest, nb_yTrain, nb_yTest = train_test_split(comment_vector, df, test_size=0.5)\n",
    "\n",
    "#Emotion classifier\n",
    "nb_emotion_model2 = nb_classifier.fit(nb_xTrain, nb_yTrain['emotion'])\n",
    "\n",
    "#Sentiment classifier\n",
    "nb_sentiment_model2 =  nb_classifier.fit(nb_xTrain, nb_yTrain['sentiment'])"
   ]
  },
  {
   "cell_type": "markdown",
   "metadata": {},
   "source": [
    "##### Decision Trees"
   ]
  },
  {
   "cell_type": "code",
   "execution_count": 19,
   "metadata": {},
   "outputs": [
    {
     "data": {
      "text/plain": [
       "DecisionTreeClassifier(criterion='entropy')"
      ]
     },
     "execution_count": 19,
     "metadata": {},
     "output_type": "execute_result"
    }
   ],
   "source": [
    "#40% train, 60% test\n",
    "DT_xTrain, DT_xtest, DT_yTrain, DT_yTest = train_test_split(comment_vector, df, test_size=0.6)\n",
    "\n",
    "#Emotion classifier\n",
    "dtc_emotion_model2 = tree.DecisionTreeClassifier(criterion = \"entropy\")\n",
    "dtc_emotion_model2.fit(DT_xTrain, DT_yTrain['emotion'])\n",
    "\n",
    "\n",
    "#Sentiment classifier\n",
    "dtc_sentiment_model2 = tree.DecisionTreeClassifier(criterion = \"entropy\")\n",
    "dtc_sentiment_model2.fit(DT_xTrain, DT_yTrain['sentiment'])\n"
   ]
  },
  {
   "cell_type": "code",
   "execution_count": null,
   "metadata": {},
   "outputs": [],
   "source": []
  }
 ],
 "metadata": {
  "kernelspec": {
   "display_name": "Python 3 (ipykernel)",
   "language": "python",
   "name": "python3"
  },
  "language_info": {
   "codemirror_mode": {
    "name": "ipython",
    "version": 3
   },
   "file_extension": ".py",
   "mimetype": "text/x-python",
   "name": "python",
   "nbconvert_exporter": "python",
   "pygments_lexer": "ipython3",
   "version": "3.9.12"
  },
  "vscode": {
   "interpreter": {
    "hash": "c860c35d18726c3c1569783332c681b91c712b54a50e71552d824726cc59ec48"
   }
  }
 },
 "nbformat": 4,
 "nbformat_minor": 2
}
