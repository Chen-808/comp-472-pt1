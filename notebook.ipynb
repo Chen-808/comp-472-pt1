{
 "cells": [
  {
   "cell_type": "markdown",
   "metadata": {},
   "source": [
    "# COMP 472 - Mini Project 1"
   ]
  },
  {
   "cell_type": "markdown",
   "metadata": {},
   "source": [
    "## Load dataset"
   ]
  },
  {
   "cell_type": "markdown",
   "metadata": {},
   "source": [
    "Here we will be extracting and reading the JSON file into a Pandas DataFrame. We decided to use `pd.read_json()` rather than `json.load()` since DataFrames give us a more pleasant data type to work with."
   ]
  },
  {
   "cell_type": "code",
   "execution_count": 1,
   "metadata": {},
   "outputs": [],
   "source": [
    "import gzip\n",
    "import json\n",
    "import pandas as pd\n",
    "\n",
    "# Read JSON file into Pandas DataFrame\n",
    "f = gzip.open('goemotions.json.gz', 'rb')\n",
    "df = pd.read_json(f)\n",
    "df.columns = ['comment', 'emotion', 'sentiment']\n",
    "\n",
    "# Close file\n",
    "f.close()"
   ]
  },
  {
   "cell_type": "markdown",
   "metadata": {},
   "source": [
    "Calling `DataFrame.head()` gives us a nice visual of our data."
   ]
  },
  {
   "cell_type": "code",
   "execution_count": 2,
   "metadata": {},
   "outputs": [
    {
     "data": {
      "text/html": [
       "<div>\n",
       "<style scoped>\n",
       "    .dataframe tbody tr th:only-of-type {\n",
       "        vertical-align: middle;\n",
       "    }\n",
       "\n",
       "    .dataframe tbody tr th {\n",
       "        vertical-align: top;\n",
       "    }\n",
       "\n",
       "    .dataframe thead th {\n",
       "        text-align: right;\n",
       "    }\n",
       "</style>\n",
       "<table border=\"1\" class=\"dataframe\">\n",
       "  <thead>\n",
       "    <tr style=\"text-align: right;\">\n",
       "      <th></th>\n",
       "      <th>comment</th>\n",
       "      <th>emotion</th>\n",
       "      <th>sentiment</th>\n",
       "    </tr>\n",
       "  </thead>\n",
       "  <tbody>\n",
       "    <tr>\n",
       "      <th>0</th>\n",
       "      <td>That game hurt.</td>\n",
       "      <td>sadness</td>\n",
       "      <td>negative</td>\n",
       "    </tr>\n",
       "    <tr>\n",
       "      <th>1</th>\n",
       "      <td>You do right, if you don't care then fuck 'em!</td>\n",
       "      <td>neutral</td>\n",
       "      <td>neutral</td>\n",
       "    </tr>\n",
       "    <tr>\n",
       "      <th>2</th>\n",
       "      <td>Man I love reddit.</td>\n",
       "      <td>love</td>\n",
       "      <td>positive</td>\n",
       "    </tr>\n",
       "    <tr>\n",
       "      <th>3</th>\n",
       "      <td>[NAME] was nowhere near them, he was by the Fa...</td>\n",
       "      <td>neutral</td>\n",
       "      <td>neutral</td>\n",
       "    </tr>\n",
       "    <tr>\n",
       "      <th>4</th>\n",
       "      <td>Right? Considering it’s such an important docu...</td>\n",
       "      <td>gratitude</td>\n",
       "      <td>positive</td>\n",
       "    </tr>\n",
       "    <tr>\n",
       "      <th>5</th>\n",
       "      <td>He isn't as big, but he's still quite popular....</td>\n",
       "      <td>disapproval</td>\n",
       "      <td>negative</td>\n",
       "    </tr>\n",
       "    <tr>\n",
       "      <th>6</th>\n",
       "      <td>That's crazy; I went to a super [RELIGION] hig...</td>\n",
       "      <td>amusement</td>\n",
       "      <td>positive</td>\n",
       "    </tr>\n",
       "    <tr>\n",
       "      <th>7</th>\n",
       "      <td>that's adorable asf</td>\n",
       "      <td>amusement</td>\n",
       "      <td>positive</td>\n",
       "    </tr>\n",
       "    <tr>\n",
       "      <th>8</th>\n",
       "      <td>\"Sponge Blurb Pubs Quaw Haha GURR ha AAa!\" fin...</td>\n",
       "      <td>amusement</td>\n",
       "      <td>positive</td>\n",
       "    </tr>\n",
       "    <tr>\n",
       "      <th>9</th>\n",
       "      <td>I have, and now that you mention it, I think t...</td>\n",
       "      <td>neutral</td>\n",
       "      <td>neutral</td>\n",
       "    </tr>\n",
       "  </tbody>\n",
       "</table>\n",
       "</div>"
      ],
      "text/plain": [
       "                                             comment      emotion sentiment\n",
       "0                                    That game hurt.      sadness  negative\n",
       "1     You do right, if you don't care then fuck 'em!      neutral   neutral\n",
       "2                                 Man I love reddit.         love  positive\n",
       "3  [NAME] was nowhere near them, he was by the Fa...      neutral   neutral\n",
       "4  Right? Considering it’s such an important docu...    gratitude  positive\n",
       "5  He isn't as big, but he's still quite popular....  disapproval  negative\n",
       "6  That's crazy; I went to a super [RELIGION] hig...    amusement  positive\n",
       "7                                that's adorable asf    amusement  positive\n",
       "8  \"Sponge Blurb Pubs Quaw Haha GURR ha AAa!\" fin...    amusement  positive\n",
       "9  I have, and now that you mention it, I think t...      neutral   neutral"
      ]
     },
     "execution_count": 2,
     "metadata": {},
     "output_type": "execute_result"
    }
   ],
   "source": [
    "df.head(10)"
   ]
  },
  {
   "cell_type": "markdown",
   "metadata": {},
   "source": [
    "## Plotting Data"
   ]
  },
  {
   "cell_type": "code",
   "execution_count": 3,
   "metadata": {},
   "outputs": [
    {
     "data": {
      "image/png": "[encoded data removed]",
      "text/plain": [
       "<Figure size 640x480 with 1 Axes>"
      ]
     },
     "metadata": {},
     "output_type": "display_data"
    }
   ],
   "source": [
    "import matplotlib.pyplot as plt\n",
    "\n",
    "sentiment = df.groupby(['sentiment'])['sentiment'].count()\n",
    "\n",
    "plt.title('GoEmotions by Sentiment')\n",
    "plt.pie(sentiment, labels = sentiment.index, autopct = '%1.2f%%')\n",
    "plt.show()"
   ]
  },
  {
   "cell_type": "code",
   "execution_count": 4,
   "metadata": {},
   "outputs": [
    {
     "data": {
      "image/png": "[encoded data removed]",
      "text/plain": [
       "<Figure size 640x480 with 1 Axes>"
      ]
     },
     "metadata": {},
     "output_type": "display_data"
    }
   ],
   "source": [
    "emotion = df.groupby(['emotion'])['emotion'].count().sort_values(ascending=False)\n",
    "\n",
    "plt.bar(emotion.index, emotion)\n",
    "plt.xticks(\n",
    "    rotation=90, \n",
    "    fontweight='light',\n",
    ")\n",
    "\n",
    "plt.title('GoEmotion by Emotion')\n",
    "plt.xlabel('Emotion')\n",
    "plt.ylabel('Number of Comments')\n",
    "\n",
    "plt.show()"
   ]
  },
  {
   "cell_type": "markdown",
   "metadata": {},
   "source": [
    "## Words as Features"
   ]
  },
  {
   "cell_type": "code",
   "execution_count": 5,
   "metadata": {},
   "outputs": [
    {
     "name": "stdout",
     "output_type": "stream",
     "text": [
      "<class 'scipy.sparse._csr.csr_matrix'>\n"
     ]
    }
   ],
   "source": [
    "from sklearn.feature_extraction.text import CountVectorizer\n",
    "\n",
    "vectorizer = CountVectorizer()\n",
    "\n",
    "comment_vector = vectorizer.fit_transform(df['comment'])\n",
    "print(type(comment_vector))"
   ]
  },
  {
   "cell_type": "code",
   "execution_count": 6,
   "metadata": {},
   "outputs": [
    {
     "name": "stdout",
     "output_type": "stream",
     "text": [
      "Vocabulary size: 30449\n"
     ]
    }
   ],
   "source": [
    "vocab_size = comment_vector.shape[1]\n",
    "print(\"Vocabulary size: \" + str(vocab_size))"
   ]
  },
  {
   "cell_type": "code",
   "execution_count": 7,
   "metadata": {},
   "outputs": [],
   "source": [
    "#splitting the data into training and testing sets\n",
    "from sklearn.model_selection import train_test_split\n",
    "\n",
    "x_train, x_test, y_train, y_test = train_test_split(comment_vector, df, test_size=0.2)"
   ]
  },
  {
   "cell_type": "markdown",
   "metadata": {},
   "source": [
    "#### Multinomial Naive bayes"
   ]
  },
  {
   "cell_type": "code",
   "execution_count": 8,
   "metadata": {},
   "outputs": [],
   "source": [
    "from sklearn.naive_bayes import MultinomialNB\n",
    "\n",
    "#Emotion classifier\n",
    "nb_classifier = MultinomialNB()\n",
    "nb_emotion_model = nb_classifier.fit(x_train, y_train['emotion'])"
   ]
  },
  {
   "cell_type": "code",
   "execution_count": 9,
   "metadata": {},
   "outputs": [
    {
     "data": {
      "text/plain": [
       "array(['gratitude'], dtype='<U14')"
      ]
     },
     "execution_count": 9,
     "metadata": {},
     "output_type": "execute_result"
    }
   ],
   "source": [
    "v = vectorizer.transform(['Thank you!'])\n",
    "nb_emotion_model.predict(v)"
   ]
  },
  {
   "cell_type": "code",
   "execution_count": 10,
   "metadata": {},
   "outputs": [
    {
     "data": {
      "text/plain": [
       "array(['positive'], dtype='<U9')"
      ]
     },
     "execution_count": 10,
     "metadata": {},
     "output_type": "execute_result"
    }
   ],
   "source": [
    "#Sentiment classifier\n",
    "nb_sentiment_model = nb_classifier.fit(x_train, y_train['sentiment'])\n",
    "v = vectorizer.transform(['Thank you!'])\n",
    "nb_sentiment_model.predict(v)"
   ]
  },
  {
   "cell_type": "markdown",
   "metadata": {},
   "source": [
    "##### Decision Tree"
   ]
  },
  {
   "cell_type": "code",
   "execution_count": 11,
   "metadata": {
    "scrolled": true
   },
   "outputs": [
    {
     "data": {
      "text/html": [
       "<style>#sk-container-id-1 {color: black;background-color: white;}#sk-container-id-1 pre{padding: 0;}#sk-container-id-1 div.sk-toggleable {background-color: white;}#sk-container-id-1 label.sk-toggleable__label {cursor: pointer;display: block;width: 100%;margin-bottom: 0;padding: 0.3em;box-sizing: border-box;text-align: center;}#sk-container-id-1 label.sk-toggleable__label-arrow:before {content: \"▸\";float: left;margin-right: 0.25em;color: #696969;}#sk-container-id-1 label.sk-toggleable__label-arrow:hover:before {color: black;}#sk-container-id-1 div.sk-estimator:hover label.sk-toggleable__label-arrow:before {color: black;}#sk-container-id-1 div.sk-toggleable__content {max-height: 0;max-width: 0;overflow: hidden;text-align: left;background-color: #f0f8ff;}#sk-container-id-1 div.sk-toggleable__content pre {margin: 0.2em;color: black;border-radius: 0.25em;background-color: #f0f8ff;}#sk-container-id-1 input.sk-toggleable__control:checked~div.sk-toggleable__content {max-height: 200px;max-width: 100%;overflow: auto;}#sk-container-id-1 input.sk-toggleable__control:checked~label.sk-toggleable__label-arrow:before {content: \"▾\";}#sk-container-id-1 div.sk-estimator input.sk-toggleable__control:checked~label.sk-toggleable__label {background-color: #d4ebff;}#sk-container-id-1 div.sk-label input.sk-toggleable__control:checked~label.sk-toggleable__label {background-color: #d4ebff;}#sk-container-id-1 input.sk-hidden--visually {border: 0;clip: rect(1px 1px 1px 1px);clip: rect(1px, 1px, 1px, 1px);height: 1px;margin: -1px;overflow: hidden;padding: 0;position: absolute;width: 1px;}#sk-container-id-1 div.sk-estimator {font-family: monospace;background-color: #f0f8ff;border: 1px dotted black;border-radius: 0.25em;box-sizing: border-box;margin-bottom: 0.5em;}#sk-container-id-1 div.sk-estimator:hover {background-color: #d4ebff;}#sk-container-id-1 div.sk-parallel-item::after {content: \"\";width: 100%;border-bottom: 1px solid gray;flex-grow: 1;}#sk-container-id-1 div.sk-label:hover label.sk-toggleable__label {background-color: #d4ebff;}#sk-container-id-1 div.sk-serial::before {content: \"\";position: absolute;border-left: 1px solid gray;box-sizing: border-box;top: 0;bottom: 0;left: 50%;z-index: 0;}#sk-container-id-1 div.sk-serial {display: flex;flex-direction: column;align-items: center;background-color: white;padding-right: 0.2em;padding-left: 0.2em;position: relative;}#sk-container-id-1 div.sk-item {position: relative;z-index: 1;}#sk-container-id-1 div.sk-parallel {display: flex;align-items: stretch;justify-content: center;background-color: white;position: relative;}#sk-container-id-1 div.sk-item::before, #sk-container-id-1 div.sk-parallel-item::before {content: \"\";position: absolute;border-left: 1px solid gray;box-sizing: border-box;top: 0;bottom: 0;left: 50%;z-index: -1;}#sk-container-id-1 div.sk-parallel-item {display: flex;flex-direction: column;z-index: 1;position: relative;background-color: white;}#sk-container-id-1 div.sk-parallel-item:first-child::after {align-self: flex-end;width: 50%;}#sk-container-id-1 div.sk-parallel-item:last-child::after {align-self: flex-start;width: 50%;}#sk-container-id-1 div.sk-parallel-item:only-child::after {width: 0;}#sk-container-id-1 div.sk-dashed-wrapped {border: 1px dashed gray;margin: 0 0.4em 0.5em 0.4em;box-sizing: border-box;padding-bottom: 0.4em;background-color: white;}#sk-container-id-1 div.sk-label label {font-family: monospace;font-weight: bold;display: inline-block;line-height: 1.2em;}#sk-container-id-1 div.sk-label-container {text-align: center;}#sk-container-id-1 div.sk-container {/* jupyter's `normalize.less` sets `[hidden] { display: none; }` but bootstrap.min.css set `[hidden] { display: none !important; }` so we also need the `!important` here to be able to override the default hidden behavior on the sphinx rendered scikit-learn.org. See: https://github.com/scikit-learn/scikit-learn/issues/21755 */display: inline-block !important;position: relative;}#sk-container-id-1 div.sk-text-repr-fallback {display: none;}</style><div id=\"sk-container-id-1\" class=\"sk-top-container\"><div class=\"sk-text-repr-fallback\"><pre>DecisionTreeClassifier(criterion=&#x27;entropy&#x27;)</pre><b>In a Jupyter environment, please rerun this cell to show the HTML representation or trust the notebook. <br />On GitHub, the HTML representation is unable to render, please try loading this page with nbviewer.org.</b></div><div class=\"sk-container\" hidden><div class=\"sk-item\"><div class=\"sk-estimator sk-toggleable\"><input class=\"sk-toggleable__control sk-hidden--visually\" id=\"sk-estimator-id-1\" type=\"checkbox\" checked><label for=\"sk-estimator-id-1\" class=\"sk-toggleable__label sk-toggleable__label-arrow\">DecisionTreeClassifier</label><div class=\"sk-toggleable__content\"><pre>DecisionTreeClassifier(criterion=&#x27;entropy&#x27;)</pre></div></div></div></div></div>"
      ],
      "text/plain": [
       "DecisionTreeClassifier(criterion='entropy')"
      ]
     },
     "execution_count": 11,
     "metadata": {},
     "output_type": "execute_result"
    }
   ],
   "source": [
    "from sklearn import tree\n",
    "from sklearn import preprocessing\n",
    "\n",
    "#Emotion classifier\n",
    "dtc_emotion_model = tree.DecisionTreeClassifier(criterion=\"entropy\")\n",
    "dtc_emotion_model.fit(x_train, y_train['emotion'])\n",
    "\n",
    "\n",
    "#predictEmotionFromDT = dtc_emotion_model.predict(x_test[0:5])\n",
    "#print(x_test[0:5])\n",
    "#print(predictEmotionFromDT)"
   ]
  },
  {
   "cell_type": "code",
   "execution_count": 12,
   "metadata": {},
   "outputs": [
    {
     "data": {
      "text/html": [
       "<style>#sk-container-id-2 {color: black;background-color: white;}#sk-container-id-2 pre{padding: 0;}#sk-container-id-2 div.sk-toggleable {background-color: white;}#sk-container-id-2 label.sk-toggleable__label {cursor: pointer;display: block;width: 100%;margin-bottom: 0;padding: 0.3em;box-sizing: border-box;text-align: center;}#sk-container-id-2 label.sk-toggleable__label-arrow:before {content: \"▸\";float: left;margin-right: 0.25em;color: #696969;}#sk-container-id-2 label.sk-toggleable__label-arrow:hover:before {color: black;}#sk-container-id-2 div.sk-estimator:hover label.sk-toggleable__label-arrow:before {color: black;}#sk-container-id-2 div.sk-toggleable__content {max-height: 0;max-width: 0;overflow: hidden;text-align: left;background-color: #f0f8ff;}#sk-container-id-2 div.sk-toggleable__content pre {margin: 0.2em;color: black;border-radius: 0.25em;background-color: #f0f8ff;}#sk-container-id-2 input.sk-toggleable__control:checked~div.sk-toggleable__content {max-height: 200px;max-width: 100%;overflow: auto;}#sk-container-id-2 input.sk-toggleable__control:checked~label.sk-toggleable__label-arrow:before {content: \"▾\";}#sk-container-id-2 div.sk-estimator input.sk-toggleable__control:checked~label.sk-toggleable__label {background-color: #d4ebff;}#sk-container-id-2 div.sk-label input.sk-toggleable__control:checked~label.sk-toggleable__label {background-color: #d4ebff;}#sk-container-id-2 input.sk-hidden--visually {border: 0;clip: rect(1px 1px 1px 1px);clip: rect(1px, 1px, 1px, 1px);height: 1px;margin: -1px;overflow: hidden;padding: 0;position: absolute;width: 1px;}#sk-container-id-2 div.sk-estimator {font-family: monospace;background-color: #f0f8ff;border: 1px dotted black;border-radius: 0.25em;box-sizing: border-box;margin-bottom: 0.5em;}#sk-container-id-2 div.sk-estimator:hover {background-color: #d4ebff;}#sk-container-id-2 div.sk-parallel-item::after {content: \"\";width: 100%;border-bottom: 1px solid gray;flex-grow: 1;}#sk-container-id-2 div.sk-label:hover label.sk-toggleable__label {background-color: #d4ebff;}#sk-container-id-2 div.sk-serial::before {content: \"\";position: absolute;border-left: 1px solid gray;box-sizing: border-box;top: 0;bottom: 0;left: 50%;z-index: 0;}#sk-container-id-2 div.sk-serial {display: flex;flex-direction: column;align-items: center;background-color: white;padding-right: 0.2em;padding-left: 0.2em;position: relative;}#sk-container-id-2 div.sk-item {position: relative;z-index: 1;}#sk-container-id-2 div.sk-parallel {display: flex;align-items: stretch;justify-content: center;background-color: white;position: relative;}#sk-container-id-2 div.sk-item::before, #sk-container-id-2 div.sk-parallel-item::before {content: \"\";position: absolute;border-left: 1px solid gray;box-sizing: border-box;top: 0;bottom: 0;left: 50%;z-index: -1;}#sk-container-id-2 div.sk-parallel-item {display: flex;flex-direction: column;z-index: 1;position: relative;background-color: white;}#sk-container-id-2 div.sk-parallel-item:first-child::after {align-self: flex-end;width: 50%;}#sk-container-id-2 div.sk-parallel-item:last-child::after {align-self: flex-start;width: 50%;}#sk-container-id-2 div.sk-parallel-item:only-child::after {width: 0;}#sk-container-id-2 div.sk-dashed-wrapped {border: 1px dashed gray;margin: 0 0.4em 0.5em 0.4em;box-sizing: border-box;padding-bottom: 0.4em;background-color: white;}#sk-container-id-2 div.sk-label label {font-family: monospace;font-weight: bold;display: inline-block;line-height: 1.2em;}#sk-container-id-2 div.sk-label-container {text-align: center;}#sk-container-id-2 div.sk-container {/* jupyter's `normalize.less` sets `[hidden] { display: none; }` but bootstrap.min.css set `[hidden] { display: none !important; }` so we also need the `!important` here to be able to override the default hidden behavior on the sphinx rendered scikit-learn.org. See: https://github.com/scikit-learn/scikit-learn/issues/21755 */display: inline-block !important;position: relative;}#sk-container-id-2 div.sk-text-repr-fallback {display: none;}</style><div id=\"sk-container-id-2\" class=\"sk-top-container\"><div class=\"sk-text-repr-fallback\"><pre>DecisionTreeClassifier(criterion=&#x27;entropy&#x27;)</pre><b>In a Jupyter environment, please rerun this cell to show the HTML representation or trust the notebook. <br />On GitHub, the HTML representation is unable to render, please try loading this page with nbviewer.org.</b></div><div class=\"sk-container\" hidden><div class=\"sk-item\"><div class=\"sk-estimator sk-toggleable\"><input class=\"sk-toggleable__control sk-hidden--visually\" id=\"sk-estimator-id-2\" type=\"checkbox\" checked><label for=\"sk-estimator-id-2\" class=\"sk-toggleable__label sk-toggleable__label-arrow\">DecisionTreeClassifier</label><div class=\"sk-toggleable__content\"><pre>DecisionTreeClassifier(criterion=&#x27;entropy&#x27;)</pre></div></div></div></div></div>"
      ],
      "text/plain": [
       "DecisionTreeClassifier(criterion='entropy')"
      ]
     },
     "execution_count": 12,
     "metadata": {},
     "output_type": "execute_result"
    }
   ],
   "source": [
    "#Sentiment classifier\n",
    "dtc_sentiment_model = tree.DecisionTreeClassifier(criterion=\"entropy\")\n",
    "dtc_sentiment_model.fit(x_train, y_train['sentiment'])\n",
    "#predictSentimentFromDT = dtc_sentiment_model.predict(x_test[0:5])\n",
    "#print(predictSentimentFromDT)"
   ]
  },
  {
   "cell_type": "markdown",
   "metadata": {},
   "source": [
    "##### Multi-Layered Perceptron"
   ]
  },
  {
   "cell_type": "code",
   "execution_count": null,
   "metadata": {},
   "outputs": [
    {
     "name": "stderr",
     "output_type": "stream",
     "text": [
      "C:\\Users\\calch\\AppData\\Local\\Programs\\Python\\Python310\\lib\\site-packages\\sklearn\\neural_network\\_multilayer_perceptron.py:702: ConvergenceWarning: Stochastic Optimizer: Maximum iterations (10) reached and the optimization hasn't converged yet.\n",
      "  warnings.warn(\n"
     ]
    }
   ],
   "source": [
    "from sklearn.neural_network import MLPClassifier\n",
    "\n",
    "# Multi-Layered Perceptron classifier for emotion classification\n",
    "mlpcClassifierEmotion = MLPClassifier(max_iter=10)\n",
    "mlpcClassifierEmotion.fit(x_train, y_train['emotion'])\n",
    "\n",
    "# Multi-Layered Perceptron classifier for sentiment classification\n",
    "mlpcClassifierSentiment = MLPClassifier(max_iter=10)\n",
    "mlpcClassifierSentiment.fit(x_train, y_train['sentiment'])\n",
    "# mlpcClassifierEmotion.predict(x_test)\n",
    "# mlpcClassifierEmotion.score(x_test, y_test['emotion'])"
   ]
  },
  {
   "cell_type": "code",
   "execution_count": 14,
   "metadata": {},
   "outputs": [
    {
     "name": "stdout",
     "output_type": "stream",
     "text": [
      "emotion score:  0.43950064020486557\n",
      "sentiment score:  0.2586427656850192\n"
     ]
    }
   ],
   "source": [
    "mlpcClassifierEmotion.predict(x_test)\n",
    "print(\"emotion score: \", mlpcClassifierEmotion.score(x_test, y_test['emotion']))\n",
    "\n",
    "mlpcClassifierSentiment.predict(x_test)\n",
    "print(\"sentiment score: \",mlpcClassifierEmotion.score(x_test, y_test['sentiment']))"
   ]
  },
  {
   "cell_type": "markdown",
   "metadata": {},
   "source": [
    "## Performance"
   ]
  },
  {
   "cell_type": "code",
   "execution_count": 15,
   "metadata": {},
   "outputs": [],
   "source": [
    "from sklearn.metrics import classification_report\n",
    "from sklearn.metrics import confusion_matrix\n",
    "\n",
    "performanceFile = open(\"Performance.txt\", \"w\")"
   ]
  },
  {
   "cell_type": "markdown",
   "metadata": {},
   "source": [
    "##### Multinomial Naive Bayes"
   ]
  },
  {
   "cell_type": "code",
   "execution_count": 16,
   "metadata": {},
   "outputs": [
    {
     "name": "stderr",
     "output_type": "stream",
     "text": [
      "C:\\Users\\calch\\AppData\\Local\\Programs\\Python\\Python310\\lib\\site-packages\\sklearn\\metrics\\_classification.py:1334: UndefinedMetricWarning: Precision and F-score are ill-defined and being set to 0.0 in labels with no predicted samples. Use `zero_division` parameter to control this behavior.\n",
      "  _warn_prf(average, modifier, msg_start, len(result))\n",
      "C:\\Users\\calch\\AppData\\Local\\Programs\\Python\\Python310\\lib\\site-packages\\sklearn\\metrics\\_classification.py:1334: UndefinedMetricWarning: Recall and F-score are ill-defined and being set to 0.0 in labels with no true samples. Use `zero_division` parameter to control this behavior.\n",
      "  _warn_prf(average, modifier, msg_start, len(result))\n",
      "C:\\Users\\calch\\AppData\\Local\\Programs\\Python\\Python310\\lib\\site-packages\\sklearn\\metrics\\_classification.py:1334: UndefinedMetricWarning: Precision and F-score are ill-defined and being set to 0.0 in labels with no predicted samples. Use `zero_division` parameter to control this behavior.\n",
      "  _warn_prf(average, modifier, msg_start, len(result))\n",
      "C:\\Users\\calch\\AppData\\Local\\Programs\\Python\\Python310\\lib\\site-packages\\sklearn\\metrics\\_classification.py:1334: UndefinedMetricWarning: Recall and F-score are ill-defined and being set to 0.0 in labels with no true samples. Use `zero_division` parameter to control this behavior.\n",
      "  _warn_prf(average, modifier, msg_start, len(result))\n",
      "C:\\Users\\calch\\AppData\\Local\\Programs\\Python\\Python310\\lib\\site-packages\\sklearn\\metrics\\_classification.py:1334: UndefinedMetricWarning: Precision and F-score are ill-defined and being set to 0.0 in labels with no predicted samples. Use `zero_division` parameter to control this behavior.\n",
      "  _warn_prf(average, modifier, msg_start, len(result))\n",
      "C:\\Users\\calch\\AppData\\Local\\Programs\\Python\\Python310\\lib\\site-packages\\sklearn\\metrics\\_classification.py:1334: UndefinedMetricWarning: Recall and F-score are ill-defined and being set to 0.0 in labels with no true samples. Use `zero_division` parameter to control this behavior.\n",
      "  _warn_prf(average, modifier, msg_start, len(result))\n"
     ]
    },
    {
     "name": "stdout",
     "output_type": "stream",
     "text": [
      "                precision    recall  f1-score   support\n",
      "\n",
      "    admiration       0.00      0.00      0.00      2141\n",
      "     ambiguous       0.00      0.00      0.00         0\n",
      "     amusement       0.00      0.00      0.00      1234\n",
      "         anger       0.00      0.00      0.00      1033\n",
      "     annoyance       0.00      0.00      0.00      1680\n",
      "      approval       0.00      0.00      0.00      2199\n",
      "        caring       0.00      0.00      0.00       724\n",
      "     confusion       0.00      0.00      0.00      1018\n",
      "     curiosity       0.00      0.00      0.00      1175\n",
      "        desire       0.00      0.00      0.00       437\n",
      "disappointment       0.00      0.00      0.00       921\n",
      "   disapproval       0.00      0.00      0.00      1530\n",
      "       disgust       0.00      0.00      0.00       602\n",
      " embarrassment       0.00      0.00      0.00       283\n",
      "    excitement       0.00      0.00      0.00       618\n",
      "          fear       0.00      0.00      0.00       348\n",
      "     gratitude       0.00      0.00      0.00      1414\n",
      "         grief       0.00      0.00      0.00        69\n",
      "           joy       0.00      0.00      0.00       852\n",
      "          love       0.00      0.00      0.00       918\n",
      "      negative       0.00      0.00      0.00         0\n",
      "   nervousness       0.00      0.00      0.00       152\n",
      "       neutral       0.48      0.49      0.49     11077\n",
      "      optimism       0.00      0.00      0.00       938\n",
      "      positive       0.00      0.00      0.00         0\n",
      "         pride       0.00      0.00      0.00       145\n",
      "   realization       0.00      0.00      0.00       953\n",
      "        relief       0.00      0.00      0.00       158\n",
      "       remorse       0.00      0.00      0.00       292\n",
      "       sadness       0.00      0.00      0.00       752\n",
      "      surprise       0.00      0.00      0.00       701\n",
      "\n",
      "      accuracy                           0.16     34364\n",
      "     macro avg       0.02      0.02      0.02     34364\n",
      "  weighted avg       0.16      0.16      0.16     34364\n",
      "\n",
      "[[   0   65    0    0    0    0    0    0    0    0    0    0    0    0\n",
      "     0    0    0    0    0    0   98    0  227    0 1751    0    0    0\n",
      "     0    0    0]\n",
      " [   0    0    0    0    0    0    0    0    0    0    0    0    0    0\n",
      "     0    0    0    0    0    0    0    0    0    0    0    0    0    0\n",
      "     0    0    0]\n",
      " [   0   29    0    0    0    0    0    0    0    0    0    0    0    0\n",
      "     0    0    0    0    0    0  110    0  177    0  918    0    0    0\n",
      "     0    0    0]\n",
      " [   0   26    0    0    0    0    0    0    0    0    0    0    0    0\n",
      "     0    0    0    0    0    0  641    0  254    0  112    0    0    0\n",
      "     0    0    0]\n",
      " [   0   73    0    0    0    0    0    0    0    0    0    0    0    0\n",
      "     0    0    0    0    0    0  768    0  503    0  336    0    0    0\n",
      "     0    0    0]\n",
      " [   0   63    0    0    0    0    0    0    0    0    0    0    0    0\n",
      "     0    0    0    0    0    0  341    0  806    0  989    0    0    0\n",
      "     0    0    0]\n",
      " [   0    8    0    0    0    0    0    0    0    0    0    0    0    0\n",
      "     0    0    0    0    0    0  123    0  200    0  393    0    0    0\n",
      "     0    0    0]\n",
      " [   0  252    0    0    0    0    0    0    0    0    0    0    0    0\n",
      "     0    0    0    0    0    0  191    0  394    0  181    0    0    0\n",
      "     0    0    0]\n",
      " [   0  318    0    0    0    0    0    0    0    0    0    0    0    0\n",
      "     0    0    0    0    0    0  155    0  480    0  222    0    0    0\n",
      "     0    0    0]\n",
      " [   0   12    0    0    0    0    0    0    0    0    0    0    0    0\n",
      "     0    0    0    0    0    0   31    0  102    0  292    0    0    0\n",
      "     0    0    0]\n",
      " [   0   37    0    0    0    0    0    0    0    0    0    0    0    0\n",
      "     0    0    0    0    0    0  415    0  308    0  161    0    0    0\n",
      "     0    0    0]\n",
      " [   0   69    0    0    0    0    0    0    0    0    0    0    0    0\n",
      "     0    0    0    0    0    0  605    0  598    0  258    0    0    0\n",
      "     0    0    0]\n",
      " [   0   14    0    0    0    0    0    0    0    0    0    0    0    0\n",
      "     0    0    0    0    0    0  420    0  107    0   61    0    0    0\n",
      "     0    0    0]\n",
      " [   0   15    0    0    0    0    0    0    0    0    0    0    0    0\n",
      "     0    0    0    0    0    0  158    0   66    0   44    0    0    0\n",
      "     0    0    0]\n",
      " [   0   57    0    0    0    0    0    0    0    0    0    0    0    0\n",
      "     0    0    0    0    0    0   38    0  123    0  400    0    0    0\n",
      "     0    0    0]\n",
      " [   0   12    0    0    0    0    0    0    0    0    0    0    0    0\n",
      "     0    0    0    0    0    0  225    0   55    0   56    0    0    0\n",
      "     0    0    0]\n",
      " [   0    5    0    0    0    0    0    0    0    0    0    0    0    0\n",
      "     0    0    0    0    0    0   39    0   24    0 1346    0    0    0\n",
      "     0    0    0]\n",
      " [   0    3    0    0    0    0    0    0    0    0    0    0    0    0\n",
      "     0    0    0    0    0    0   37    0   21    0    8    0    0    0\n",
      "     0    0    0]\n",
      " [   0   15    0    0    0    0    0    0    0    0    0    0    0    0\n",
      "     0    0    0    0    0    0   35    0   92    0  710    0    0    0\n",
      "     0    0    0]\n",
      " [   0    6    0    0    0    0    0    0    0    0    0    0    0    0\n",
      "     0    0    0    0    0    0   17    0   63    0  832    0    0    0\n",
      "     0    0    0]\n",
      " [   0    0    0    0    0    0    0    0    0    0    0    0    0    0\n",
      "     0    0    0    0    0    0    0    0    0    0    0    0    0    0\n",
      "     0    0    0]\n",
      " [   0    7    0    0    0    0    0    0    0    0    0    0    0    0\n",
      "     0    0    0    0    0    0   73    0   37    0   35    0    0    0\n",
      "     0    0    0]\n",
      " [   0  632    0    0    0    0    0    0    0    0    0    0    0    0\n",
      "     0    0    0    0    0    0 1873    0 5405    0 3167    0    0    0\n",
      "     0    0    0]\n",
      " [   0   25    0    0    0    0    0    0    0    0    0    0    0    0\n",
      "     0    0    0    0    0    0   67    0  262    0  584    0    0    0\n",
      "     0    0    0]\n",
      " [   0    0    0    0    0    0    0    0    0    0    0    0    0    0\n",
      "     0    0    0    0    0    0    0    0    0    0    0    0    0    0\n",
      "     0    0    0]\n",
      " [   0    2    0    0    0    0    0    0    0    0    0    0    0    0\n",
      "     0    0    0    0    0    0   19    0   39    0   85    0    0    0\n",
      "     0    0    0]\n",
      " [   0   89    0    0    0    0    0    0    0    0    0    0    0    0\n",
      "     0    0    0    0    0    0  197    0  435    0  232    0    0    0\n",
      "     0    0    0]\n",
      " [   0    1    0    0    0    0    0    0    0    0    0    0    0    0\n",
      "     0    0    0    0    0    0   20    0   44    0   93    0    0    0\n",
      "     0    0    0]\n",
      " [   0    9    0    0    0    0    0    0    0    0    0    0    0    0\n",
      "     0    0    0    0    0    0  204    0   33    0   46    0    0    0\n",
      "     0    0    0]\n",
      " [   0   17    0    0    0    0    0    0    0    0    0    0    0    0\n",
      "     0    0    0    0    0    0  452    0  159    0  124    0    0    0\n",
      "     0    0    0]\n",
      " [   0  235    0    0    0    0    0    0    0    0    0    0    0    0\n",
      "     0    0    0    0    0    0  103    0  170    0  193    0    0    0\n",
      "     0    0    0]]\n"
     ]
    }
   ],
   "source": [
    "#Performance of emotion classifier\n",
    "nb_emotion_model_prediction = nb_emotion_model.predict(x_test)\n",
    "mnb_emotion_report = classification_report(y_test['emotion'], nb_emotion_model_prediction)\n",
    "print(mnb_emotion_report)\n",
    "\n",
    "# Confusion matrix\n",
    "mnb_emotion_confusion_matrix = confusion_matrix(y_test['emotion'], nb_emotion_model_prediction)\n",
    "print(mnb_emotion_confusion_matrix)"
   ]
  },
  {
   "cell_type": "code",
   "execution_count": 17,
   "metadata": {},
   "outputs": [
    {
     "name": "stdout",
     "output_type": "stream",
     "text": [
      "              precision    recall  f1-score   support\n",
      "\n",
      "   ambiguous       0.43      0.23      0.30      3847\n",
      "    negative       0.54      0.52      0.53      7662\n",
      "     neutral       0.48      0.49      0.49     11077\n",
      "    positive       0.62      0.71      0.66     11778\n",
      "\n",
      "    accuracy                           0.54     34364\n",
      "   macro avg       0.52      0.49      0.49     34364\n",
      "weighted avg       0.53      0.54      0.53     34364\n",
      "\n",
      "[[ 894  646 1479  828]\n",
      " [ 282 3998 2141 1241]\n",
      " [ 632 1873 5405 3167]\n",
      " [ 288  938 2159 8393]]\n"
     ]
    }
   ],
   "source": [
    "#Performance of sentiment classifier\n",
    "nb_sentiment_model_prediction = nb_sentiment_model.predict(x_test)\n",
    "mnb_sentiment_report = classification_report(y_test['sentiment'], nb_sentiment_model_prediction)\n",
    "print(mnb_sentiment_report)\n",
    "\n",
    "# Confusion matrix\n",
    "mnb_sentiment_confusion_matrix = confusion_matrix(y_test['sentiment'], nb_sentiment_model_prediction)\n",
    "print(mnb_sentiment_confusion_matrix)"
   ]
  },
  {
   "cell_type": "markdown",
   "metadata": {},
   "source": [
    "##### Decision Tree"
   ]
  },
  {
   "cell_type": "code",
   "execution_count": 18,
   "metadata": {},
   "outputs": [
    {
     "name": "stdout",
     "output_type": "stream",
     "text": [
      "                precision    recall  f1-score   support\n",
      "\n",
      "    admiration       0.41      0.57      0.48      2141\n",
      "     amusement       0.43      0.57      0.49      1234\n",
      "         anger       0.25      0.39      0.30      1033\n",
      "     annoyance       0.16      0.23      0.18      1680\n",
      "      approval       0.20      0.28      0.23      2199\n",
      "        caring       0.22      0.28      0.25       724\n",
      "     confusion       0.24      0.29      0.26      1018\n",
      "     curiosity       0.32      0.33      0.32      1175\n",
      "        desire       0.23      0.27      0.25       437\n",
      "disappointment       0.16      0.17      0.17       921\n",
      "   disapproval       0.23      0.23      0.23      1530\n",
      "       disgust       0.25      0.19      0.22       602\n",
      " embarrassment       0.18      0.17      0.18       283\n",
      "    excitement       0.24      0.22      0.23       618\n",
      "          fear       0.40      0.34      0.36       348\n",
      "     gratitude       0.76      0.73      0.75      1414\n",
      "         grief       0.11      0.09      0.10        69\n",
      "           joy       0.26      0.23      0.25       852\n",
      "          love       0.51      0.53      0.52       918\n",
      "   nervousness       0.18      0.13      0.15       152\n",
      "       neutral       0.51      0.43      0.46     11077\n",
      "      optimism       0.35      0.21      0.26       938\n",
      "         pride       0.19      0.07      0.10       145\n",
      "   realization       0.18      0.08      0.11       953\n",
      "        relief       0.20      0.08      0.11       158\n",
      "       remorse       0.37      0.28      0.32       292\n",
      "       sadness       0.34      0.18      0.23       752\n",
      "      surprise       0.33      0.19      0.24       701\n",
      "\n",
      "      accuracy                           0.36     34364\n",
      "     macro avg       0.29      0.28      0.28     34364\n",
      "  weighted avg       0.37      0.36      0.36     34364\n",
      "\n",
      "[[1230   40   16   49  129   30   16   19   18   16   26    8    1   39\n",
      "     4   46    1   61   93    1  210   24    7   15    7    1    6   28]\n",
      " [  55  709   12   43   39    5   11    9    7   11   17    9   11   12\n",
      "     3    7    1   67   15    1  155    9    0    7    0    3    3   13]\n",
      " [  26   24  402  174   30   10   15   16    6   27   34   28    4    4\n",
      "     4    2    1    4    4    1  189    6    2    5    0    1    8    6]\n",
      " [  59   62  224  378  113   27   42   40   11   73  108   39   16   16\n",
      "    11   12    3   11   15    3  368    6    1    9    4    3   15   11]\n",
      " [ 201   52   45  134  606   65   40   35   27   51   71   15    2   26\n",
      "     8   18    0   41   40    6  616   41    5   24    4    4    9   13]\n",
      " [  46   15   17   44   78  201    9    8    9   16   18    0    1    6\n",
      "     5   14    2   16    8    1  164   21    5    4    2    4    5    5]\n",
      " [  27   27   24   63   60   13  296  114    4   16   36    4   11   11\n",
      "     3    1    0    3    7    2  262    6    0    8    1    4    3   12]\n",
      " [  30   19   33   63   50   10  175  391    7    9   23    8    2   12\n",
      "     2    6    0    4    6    1  289    5    0    9    0    0    2   19]\n",
      " [  23   10    6   18   49   13    5   11  117    9    5    0    1    9\n",
      "     1   10    0    9   10    1   89   29    0    4    1    1    4    2]\n",
      " [  23   22   63  103   54   19   21   14    7  159   59   20    5   12\n",
      "     1    5    3    4    9    9  215   14    1    9    2    7   44   17]\n",
      " [  46   31   80  187  113   23   53   21   13   85  355   21   11    9\n",
      "     4    4    1   11    6    2  394   12    1   20    2    5   15    5]\n",
      " [  15   15   96  104   26    4   17    8    1   26   43  116   12    3\n",
      "    10    0    2    1    2    0   87    3    0    5    0    2    3    1]\n",
      " [   9   12   17   45   23    7    7    7    2    7   10    9   48    1\n",
      "     3    3    1    1    3    2   53    2    0    2    0    4    2    3]\n",
      " [  66   31    5   24   44    7   12   34    8    2    7    0    2  134\n",
      "     1   12    1   33   18    1  129   11    2    4    2    2    2   24]\n",
      " [  16    4   21   24   21    6    6    6    1   10   14   13    4    0\n",
      "   117    1    1    2    0    4   58    1    2    7    0    0    6    3]\n",
      " [ 120    9    9   26   26   11    3    7    3    5   10    0    1   17\n",
      "     0 1037    0   23    7    0   61   17    0    1    4   12    2    3]\n",
      " [   2    1    6    3    2    4    3    0    0    3    1    4    0    0\n",
      "     1    4    6    2    2    0   13    1    0    2    0    2    6    1]\n",
      " [  93  121    6   20   57   21    4    7   17    9    8    4    1   42\n",
      "     2   30    0  199   66    0  115    7    4    6    8    0    1    4]\n",
      " [ 135   11    6   10   63   13    6    9   17    5    9    3    0   16\n",
      "     1   10    0   46  489    0   53    9    0    3    0    3    1    0]\n",
      " [   3    5    5   15    7   12    1    3    2    8    5    4    2    1\n",
      "    10    0    0    1    1   20   37    1    0    1    0    2    4    2]\n",
      " [ 573  331  419  670 1109  281  384  393  149  263  491  111   78  137\n",
      "    77   82   14  160  138   46 4732  104   10  140    6   25   74   80]\n",
      " [  68   17   10   39  115   39   18   10   57   16   29    5    6   13\n",
      "     2   22    1   13    9    2  234  194    3    7    1    3    3    2]\n",
      " [  31    2    4    3   24    2    3    2    1    5    2    0    1    1\n",
      "     0    2    0    6    0    0   39    3   10    1    1    0    2    0]\n",
      " [  43   27   37   65  120   12   24   19    8   27   52    9    9    8\n",
      "     8    4    2   12    7    2  347   12    0   74    3    7    5   10]\n",
      " [  12    0    2    5   30   12    1    2    2    4    4    2    1    1\n",
      "     2    9    0   14    3    0   36    1    1    1   12    0    1    0]\n",
      " [   3    5    6   13   16   17    4    1    2   25   12    2   11    1\n",
      "     0   13    0    1    1    1   36    4    0   10    0   82   26    0]\n",
      " [  14   13   27   61   45   29   16   10    9   87   40   11   11    2\n",
      "    10    5   11    3    3    3  147    4    0   16    0   40  132    3]\n",
      " [  55   23   27   34   41    2   25   45    7   14   23   10   13   31\n",
      "     5    4    2   12    6    0  157    5    0   25    0    2    3  130]]\n"
     ]
    }
   ],
   "source": [
    "#Performance of emotion classifier\n",
    "\n",
    "DT_emotion_model_prediction = dtc_emotion_model.predict(x_test)\n",
    "DT_emotion_report = classification_report(y_test['emotion'], DT_emotion_model_prediction)\n",
    "print(DT_emotion_report)\n",
    "\n",
    "#Confusion matrix\n",
    "DT_emotion_confusion_matrix = confusion_matrix(y_test['emotion'], DT_emotion_model_prediction)\n",
    "print(DT_emotion_confusion_matrix)"
   ]
  },
  {
   "cell_type": "code",
   "execution_count": 19,
   "metadata": {},
   "outputs": [
    {
     "name": "stdout",
     "output_type": "stream",
     "text": [
      "              precision    recall  f1-score   support\n",
      "\n",
      "   ambiguous       0.35      0.46      0.40      3847\n",
      "    negative       0.51      0.60      0.55      7662\n",
      "     neutral       0.51      0.48      0.49     11077\n",
      "    positive       0.70      0.60      0.65     11778\n",
      "\n",
      "    accuracy                           0.54     34364\n",
      "   macro avg       0.52      0.53      0.52     34364\n",
      "weighted avg       0.56      0.54      0.55     34364\n",
      "\n",
      "[[1786  634  963  464]\n",
      " [ 821 4605 1514  722]\n",
      " [1565 2465 5277 1770]\n",
      " [ 877 1347 2515 7039]]\n"
     ]
    }
   ],
   "source": [
    "#Performance of sentiment classifier\n",
    "\n",
    "DT_sentiment_model_prediction = dtc_sentiment_model.predict(x_test)\n",
    "DT_sentiment_report = classification_report(y_test['sentiment'], DT_sentiment_model_prediction)\n",
    "print(DT_sentiment_report)\n",
    "\n",
    "#Confusion matrix\n",
    "DT_sentiment_confusion_matrix = confusion_matrix(y_test['sentiment'], DT_sentiment_model_prediction)\n",
    "print(DT_sentiment_confusion_matrix)"
   ]
  },
  {
   "cell_type": "markdown",
   "metadata": {},
   "source": [
    "##### Multi-Layered Perceptron"
   ]
  },
  {
   "cell_type": "code",
   "execution_count": 20,
   "metadata": {},
   "outputs": [
    {
     "name": "stderr",
     "output_type": "stream",
     "text": [
      "C:\\Users\\calch\\AppData\\Local\\Programs\\Python\\Python310\\lib\\site-packages\\sklearn\\metrics\\_classification.py:1334: UndefinedMetricWarning: Precision and F-score are ill-defined and being set to 0.0 in labels with no predicted samples. Use `zero_division` parameter to control this behavior.\n",
      "  _warn_prf(average, modifier, msg_start, len(result))\n",
      "C:\\Users\\calch\\AppData\\Local\\Programs\\Python\\Python310\\lib\\site-packages\\sklearn\\metrics\\_classification.py:1334: UndefinedMetricWarning: Precision and F-score are ill-defined and being set to 0.0 in labels with no predicted samples. Use `zero_division` parameter to control this behavior.\n",
      "  _warn_prf(average, modifier, msg_start, len(result))\n",
      "C:\\Users\\calch\\AppData\\Local\\Programs\\Python\\Python310\\lib\\site-packages\\sklearn\\metrics\\_classification.py:1334: UndefinedMetricWarning: Precision and F-score are ill-defined and being set to 0.0 in labels with no predicted samples. Use `zero_division` parameter to control this behavior.\n",
      "  _warn_prf(average, modifier, msg_start, len(result))\n"
     ]
    },
    {
     "name": "stdout",
     "output_type": "stream",
     "text": [
      "                precision    recall  f1-score   support\n",
      "\n",
      "    admiration       0.51      0.52      0.51      2141\n",
      "     amusement       0.53      0.61      0.56      1234\n",
      "         anger       0.39      0.26      0.31      1033\n",
      "     annoyance       0.20      0.10      0.13      1680\n",
      "      approval       0.37      0.08      0.14      2199\n",
      "        caring       0.35      0.11      0.17       724\n",
      "     confusion       0.44      0.10      0.17      1018\n",
      "     curiosity       0.35      0.15      0.21      1175\n",
      "        desire       0.46      0.22      0.30       437\n",
      "disappointment       0.27      0.07      0.12       921\n",
      "   disapproval       0.26      0.09      0.14      1530\n",
      "       disgust       0.43      0.15      0.22       602\n",
      " embarrassment       0.34      0.08      0.13       283\n",
      "    excitement       0.34      0.10      0.16       618\n",
      "          fear       0.48      0.35      0.41       348\n",
      "     gratitude       0.77      0.79      0.78      1414\n",
      "         grief       0.00      0.00      0.00        69\n",
      "           joy       0.38      0.29      0.33       852\n",
      "          love       0.54      0.64      0.59       918\n",
      "   nervousness       0.24      0.03      0.06       152\n",
      "       neutral       0.43      0.80      0.56     11077\n",
      "      optimism       0.45      0.27      0.34       938\n",
      "         pride       0.00      0.00      0.00       145\n",
      "   realization       0.33      0.04      0.07       953\n",
      "        relief       0.00      0.00      0.00       158\n",
      "       remorse       0.44      0.54      0.48       292\n",
      "       sadness       0.43      0.25      0.32       752\n",
      "      surprise       0.40      0.27      0.32       701\n",
      "\n",
      "      accuracy                           0.44     34364\n",
      "     macro avg       0.36      0.25      0.27     34364\n",
      "  weighted avg       0.41      0.44      0.38     34364\n",
      "\n"
     ]
    },
    {
     "name": "stderr",
     "output_type": "stream",
     "text": [
      "C:\\Users\\calch\\AppData\\Local\\Programs\\Python\\Python310\\lib\\site-packages\\sklearn\\metrics\\_classification.py:1334: UndefinedMetricWarning: Precision and F-score are ill-defined and being set to 0.0 in labels with no predicted samples. Use `zero_division` parameter to control this behavior.\n",
      "  _warn_prf(average, modifier, msg_start, len(result))\n",
      "C:\\Users\\calch\\AppData\\Local\\Programs\\Python\\Python310\\lib\\site-packages\\sklearn\\metrics\\_classification.py:1334: UndefinedMetricWarning: Precision and F-score are ill-defined and being set to 0.0 in labels with no predicted samples. Use `zero_division` parameter to control this behavior.\n",
      "  _warn_prf(average, modifier, msg_start, len(result))\n",
      "C:\\Users\\calch\\AppData\\Local\\Programs\\Python\\Python310\\lib\\site-packages\\sklearn\\metrics\\_classification.py:1334: UndefinedMetricWarning: Precision and F-score are ill-defined and being set to 0.0 in labels with no predicted samples. Use `zero_division` parameter to control this behavior.\n",
      "  _warn_prf(average, modifier, msg_start, len(result))\n"
     ]
    },
    {
     "name": "stdout",
     "output_type": "stream",
     "text": [
      "[[1105   30    6    8   22    6    3   14    5    7    7    5    0   16\n",
      "     4   45    0   51   92    0  642   18    0    4    0    0    8   43]\n",
      " [  32  747    5   17    4    1    4    4    1    3    5    2    1    3\n",
      "     1    7    0   25   14    0  328    4    0    2    0    5    4   15]\n",
      " [  10   15  269  100    8    6    2    9    1    0   17   12    0    2\n",
      "     6    4    0    0    7    0  550    8    0    1    0    3    1    2]\n",
      " [  30   52   83  169   13    7    5   17    2   14   43   22    7    4\n",
      "     8   26    0    5   18    0 1117    7    0    3    0    2   12   14]\n",
      " [ 120   38   12   34  184   19    5   13    4   12   34    5    1   11\n",
      "     8   25    0   26   42    1 1537   36    0    6    0   10   10    6]\n",
      " [  28    9    5   11   10   79    1    6    7    2   10    1    1    1\n",
      "     7   13    0   17   11    0  455   31    0    1    0    8    9    1]\n",
      " [  18   16   16   15   18    1  105   55    0    2   19    1    0    3\n",
      "     5    4    0    5    7    0  706    3    0    3    0    4    5    7]\n",
      " [  15   16   11   16    6    4   16  179    0    1    8    1    0   15\n",
      "     2    8    0    4    6    0  830    3    0    4    0    3    5   22]\n",
      " [  10    7    1    2    4    1    0    4   97    2    3    0    1    5\n",
      "     1    7    0    4   14    0  236   32    0    1    0    0    4    1]\n",
      " [  12   11   17   44    8    2    2    7    4   68   17    7    1    5\n",
      "     5    3    0    3   10    4  628    7    0    0    0   12   32   12]\n",
      " [  22   25   28   58   23    3   14   10    2   19  141    8    4    4\n",
      "    13   12    0    6   11    0 1084    7    0    2    0    6   14   14]\n",
      " [   9   10   50   55    8    1    2    2    1    4   12   88    3    0\n",
      "     8    0    0    1    1    0  331    5    0    1    0    3    5    2]\n",
      " [   4    6   10   27    4    0    0    1    0    3    2    4   23    1\n",
      "     4    0    0    2    7    1  169    1    0    1    0    8    2    3]\n",
      " [  75   19    1    3    6    1    0    9    2    1    0    1    0   64\n",
      "     1   17    0   50   18    3  295    7    0    0    0    0    5   40]\n",
      " [   3    3    5    9    2    2    0    1    0    4    3    6    1    0\n",
      "   123    1    0    2    1    2  171    2    0    0    0    0    7    0]\n",
      " [  96    8    0    4    3    7    2    3    0    0    1    1    0    3\n",
      "     1 1115    0   39    9    0   84   13    0    2    0   19    3    1]\n",
      " [   1    1    1    3    0    2    1    0    0    0    1    0    0    0\n",
      "     1    1    0    1    3    0   43    0    0    0    0    2    8    0]\n",
      " [  68  114    3    7    5    4    1    3    7    2    1    1    0    8\n",
      "     1   28    0  243   57    1  283    8    0    0    0    0    3    4]\n",
      " [  65    8    3    1    3    3    0    3    3    2    1    0    0    0\n",
      "     0    7    0   18  587    0  204    3    0    0    0    2    4    1]\n",
      " [   2    2    0    9    0    3    0    2    0    3    1    2    1    0\n",
      "     3    0    0    3    1    5  105    5    0    0    0    1    2    2]\n",
      " [ 303  222  131  191  120   51   66  135   46   54  168   28   16   28\n",
      "    34   76    0   90  137    2 8888   86    0   32    0   40   66   67]\n",
      " [  47   14    2    8   23   10    5    6   22    1   14    0    0    2\n",
      "     0   18    0    8   10    0  480  253    0    1    0    3    6    5]\n",
      " [  26    3    1    1    6    2    0    0    1    1    0    0    1    0\n",
      "     0    5    0    3    2    0   89    1    0    0    0    0    1    2]\n",
      " [  16   18    9   22   14    1    3    6    1    5   23    1    1    1\n",
      "     3    7    0    7    9    0  733    6    0   36    0    8   10   13]\n",
      " [   9    1    0    3    1    3    0    1    1    2    1    0    0    1\n",
      "     3    9    0   14    1    0  103    2    0    0    0    0    2    1]\n",
      " [   1    4    1    2    0    1    2    0    2    3    2    1    4    0\n",
      "     0    2    0    0    2    1   81    3    0    2    0  157   20    1]\n",
      " [   7   10    8   15    2    7    2    4    3   27   13    7    1    0\n",
      "    10    6    0    3    2    1  362    6    0    2    0   62  187    5]\n",
      " [  31    8   12   12    7    0    0   16    1    7    5    2    0   13\n",
      "     5    4    0    5    6    0  372    0    0    4    0    0    0  191]]\n",
      "              precision    recall  f1-score   support\n",
      "\n",
      "   ambiguous       0.41      0.36      0.38      3847\n",
      "    negative       0.56      0.55      0.55      7662\n",
      "     neutral       0.51      0.51      0.51     11077\n",
      "    positive       0.66      0.69      0.67     11778\n",
      "\n",
      "    accuracy                           0.56     34364\n",
      "   macro avg       0.53      0.53      0.53     34364\n",
      "weighted avg       0.56      0.56      0.56     34364\n",
      "\n",
      "[[1371  584 1269  623]\n",
      " [ 467 4192 1963 1040]\n",
      " [ 994 1821 5679 2583]\n",
      " [ 493  955 2176 8154]]\n"
     ]
    }
   ],
   "source": [
    "performanceFile.write(\"Multi-layered Perceptron classifier for 'emotion'\\n\\n\")\n",
    "\n",
    "#Performance of emotion classifier\n",
    "mlpcClassifierEmotion_model_prediction = mlpcClassifierEmotion.predict(x_test)\n",
    "mlpcClassifierEmotion_report = classification_report(y_test['emotion'], mlpcClassifierEmotion_model_prediction)\n",
    "performanceFile.write(mlpcClassifierEmotion_report)\n",
    "\n",
    "#Confusion matrix\n",
    "mlpcClassifierEmotion_confusion_matrix = confusion_matrix(y_test['emotion'], mlpcClassifierEmotion_model_prediction)\n",
    "performanceFile.write(str(mlpcClassifierEmotion_confusion_matrix))\n",
    "\n",
    "performanceFile.write(\"\\n\\nMulti-layered Perceptron classifier for 'sentiment'\\n\\n\")\n",
    "\n",
    "#Performance of sentiment classifier\n",
    "mlpcClassifierSentiment_model_prediction = mlpcClassifierSentiment.predict(x_test)\n",
    "mlpcClassifierSentiment_report = classification_report(y_test['sentiment'], mlpcClassifierSentiment_model_prediction)\n",
    "performanceFile.write(mlpcClassifierSentiment_report)\n",
    "\n",
    "#Confusion matrix\n",
    "mlpcClassifierSentiment_confusion_matrix = confusion_matrix(y_test['sentiment'], mlpcClassifierSentiment_model_prediction)\n",
    "performanceFile.write(str(mlpcClassifierSentiment_confusion_matrix))\n",
    "\n",
    "\n",
    "performanceFile.close()"
   ]
  },
  {
   "cell_type": "markdown",
   "metadata": {},
   "source": [
    "## Exploration: different splits of training & test sets"
   ]
  },
  {
   "cell_type": "markdown",
   "metadata": {},
   "source": [
    "##### Multinomial Naive bayes"
   ]
  },
  {
   "cell_type": "code",
   "execution_count": 21,
   "metadata": {},
   "outputs": [],
   "source": [
    "#50% train, 50% test\n",
    "nb_xTrain, nb_xtest, nb_yTrain, nb_yTest = train_test_split(comment_vector, df, test_size=0.5)\n",
    "\n",
    "#Emotion classifier\n",
    "nb_emotion_model2 = nb_classifier.fit(nb_xTrain, nb_yTrain['emotion'])\n",
    "\n",
    "#Sentiment classifier\n",
    "nb_sentiment_model2 =  nb_classifier.fit(nb_xTrain, nb_yTrain['sentiment'])"
   ]
  },
  {
   "cell_type": "markdown",
   "metadata": {},
   "source": [
    "##### Decision Trees"
   ]
  },
  {
   "cell_type": "code",
   "execution_count": 22,
   "metadata": {},
   "outputs": [
    {
     "data": {
      "text/html": [
       "<style>#sk-container-id-4 {color: black;background-color: white;}#sk-container-id-4 pre{padding: 0;}#sk-container-id-4 div.sk-toggleable {background-color: white;}#sk-container-id-4 label.sk-toggleable__label {cursor: pointer;display: block;width: 100%;margin-bottom: 0;padding: 0.3em;box-sizing: border-box;text-align: center;}#sk-container-id-4 label.sk-toggleable__label-arrow:before {content: \"▸\";float: left;margin-right: 0.25em;color: #696969;}#sk-container-id-4 label.sk-toggleable__label-arrow:hover:before {color: black;}#sk-container-id-4 div.sk-estimator:hover label.sk-toggleable__label-arrow:before {color: black;}#sk-container-id-4 div.sk-toggleable__content {max-height: 0;max-width: 0;overflow: hidden;text-align: left;background-color: #f0f8ff;}#sk-container-id-4 div.sk-toggleable__content pre {margin: 0.2em;color: black;border-radius: 0.25em;background-color: #f0f8ff;}#sk-container-id-4 input.sk-toggleable__control:checked~div.sk-toggleable__content {max-height: 200px;max-width: 100%;overflow: auto;}#sk-container-id-4 input.sk-toggleable__control:checked~label.sk-toggleable__label-arrow:before {content: \"▾\";}#sk-container-id-4 div.sk-estimator input.sk-toggleable__control:checked~label.sk-toggleable__label {background-color: #d4ebff;}#sk-container-id-4 div.sk-label input.sk-toggleable__control:checked~label.sk-toggleable__label {background-color: #d4ebff;}#sk-container-id-4 input.sk-hidden--visually {border: 0;clip: rect(1px 1px 1px 1px);clip: rect(1px, 1px, 1px, 1px);height: 1px;margin: -1px;overflow: hidden;padding: 0;position: absolute;width: 1px;}#sk-container-id-4 div.sk-estimator {font-family: monospace;background-color: #f0f8ff;border: 1px dotted black;border-radius: 0.25em;box-sizing: border-box;margin-bottom: 0.5em;}#sk-container-id-4 div.sk-estimator:hover {background-color: #d4ebff;}#sk-container-id-4 div.sk-parallel-item::after {content: \"\";width: 100%;border-bottom: 1px solid gray;flex-grow: 1;}#sk-container-id-4 div.sk-label:hover label.sk-toggleable__label {background-color: #d4ebff;}#sk-container-id-4 div.sk-serial::before {content: \"\";position: absolute;border-left: 1px solid gray;box-sizing: border-box;top: 0;bottom: 0;left: 50%;z-index: 0;}#sk-container-id-4 div.sk-serial {display: flex;flex-direction: column;align-items: center;background-color: white;padding-right: 0.2em;padding-left: 0.2em;position: relative;}#sk-container-id-4 div.sk-item {position: relative;z-index: 1;}#sk-container-id-4 div.sk-parallel {display: flex;align-items: stretch;justify-content: center;background-color: white;position: relative;}#sk-container-id-4 div.sk-item::before, #sk-container-id-4 div.sk-parallel-item::before {content: \"\";position: absolute;border-left: 1px solid gray;box-sizing: border-box;top: 0;bottom: 0;left: 50%;z-index: -1;}#sk-container-id-4 div.sk-parallel-item {display: flex;flex-direction: column;z-index: 1;position: relative;background-color: white;}#sk-container-id-4 div.sk-parallel-item:first-child::after {align-self: flex-end;width: 50%;}#sk-container-id-4 div.sk-parallel-item:last-child::after {align-self: flex-start;width: 50%;}#sk-container-id-4 div.sk-parallel-item:only-child::after {width: 0;}#sk-container-id-4 div.sk-dashed-wrapped {border: 1px dashed gray;margin: 0 0.4em 0.5em 0.4em;box-sizing: border-box;padding-bottom: 0.4em;background-color: white;}#sk-container-id-4 div.sk-label label {font-family: monospace;font-weight: bold;display: inline-block;line-height: 1.2em;}#sk-container-id-4 div.sk-label-container {text-align: center;}#sk-container-id-4 div.sk-container {/* jupyter's `normalize.less` sets `[hidden] { display: none; }` but bootstrap.min.css set `[hidden] { display: none !important; }` so we also need the `!important` here to be able to override the default hidden behavior on the sphinx rendered scikit-learn.org. See: https://github.com/scikit-learn/scikit-learn/issues/21755 */display: inline-block !important;position: relative;}#sk-container-id-4 div.sk-text-repr-fallback {display: none;}</style><div id=\"sk-container-id-4\" class=\"sk-top-container\"><div class=\"sk-text-repr-fallback\"><pre>DecisionTreeClassifier(criterion=&#x27;entropy&#x27;)</pre><b>In a Jupyter environment, please rerun this cell to show the HTML representation or trust the notebook. <br />On GitHub, the HTML representation is unable to render, please try loading this page with nbviewer.org.</b></div><div class=\"sk-container\" hidden><div class=\"sk-item\"><div class=\"sk-estimator sk-toggleable\"><input class=\"sk-toggleable__control sk-hidden--visually\" id=\"sk-estimator-id-4\" type=\"checkbox\" checked><label for=\"sk-estimator-id-4\" class=\"sk-toggleable__label sk-toggleable__label-arrow\">DecisionTreeClassifier</label><div class=\"sk-toggleable__content\"><pre>DecisionTreeClassifier(criterion=&#x27;entropy&#x27;)</pre></div></div></div></div></div>"
      ],
      "text/plain": [
       "DecisionTreeClassifier(criterion='entropy')"
      ]
     },
     "execution_count": 22,
     "metadata": {},
     "output_type": "execute_result"
    }
   ],
   "source": [
    "#40% train, 60% test\n",
    "DT_xTrain, DT_xtest, DT_yTrain, DT_yTest = train_test_split(comment_vector, df, test_size=0.6)\n",
    "\n",
    "#Emotion classifier\n",
    "dtc_emotion_model2 = tree.DecisionTreeClassifier(criterion = \"entropy\")\n",
    "dtc_emotion_model2.fit(DT_xTrain, DT_yTrain['emotion'])\n",
    "\n",
    "\n",
    "#Sentiment classifier\n",
    "dtc_sentiment_model2 = tree.DecisionTreeClassifier(criterion = \"entropy\")\n",
    "dtc_sentiment_model2.fit(DT_xTrain, DT_yTrain['sentiment'])\n"
   ]
  },
  {
   "cell_type": "markdown",
   "metadata": {},
   "source": [
    "##### Multi-Layered Perceptron"
   ]
  },
  {
   "cell_type": "code",
   "execution_count": 26,
   "metadata": {},
   "outputs": [
    {
     "name": "stderr",
     "output_type": "stream",
     "text": [
      "C:\\Users\\calch\\AppData\\Local\\Programs\\Python\\Python310\\lib\\site-packages\\sklearn\\neural_network\\_multilayer_perceptron.py:702: ConvergenceWarning: Stochastic Optimizer: Maximum iterations (10) reached and the optimization hasn't converged yet.\n",
      "  warnings.warn(\n",
      "C:\\Users\\calch\\AppData\\Local\\Programs\\Python\\Python310\\lib\\site-packages\\sklearn\\neural_network\\_multilayer_perceptron.py:702: ConvergenceWarning: Stochastic Optimizer: Maximum iterations (10) reached and the optimization hasn't converged yet.\n",
      "  warnings.warn(\n"
     ]
    },
    {
     "data": {
      "text/html": [
       "<style>#sk-container-id-7 {color: black;background-color: white;}#sk-container-id-7 pre{padding: 0;}#sk-container-id-7 div.sk-toggleable {background-color: white;}#sk-container-id-7 label.sk-toggleable__label {cursor: pointer;display: block;width: 100%;margin-bottom: 0;padding: 0.3em;box-sizing: border-box;text-align: center;}#sk-container-id-7 label.sk-toggleable__label-arrow:before {content: \"▸\";float: left;margin-right: 0.25em;color: #696969;}#sk-container-id-7 label.sk-toggleable__label-arrow:hover:before {color: black;}#sk-container-id-7 div.sk-estimator:hover label.sk-toggleable__label-arrow:before {color: black;}#sk-container-id-7 div.sk-toggleable__content {max-height: 0;max-width: 0;overflow: hidden;text-align: left;background-color: #f0f8ff;}#sk-container-id-7 div.sk-toggleable__content pre {margin: 0.2em;color: black;border-radius: 0.25em;background-color: #f0f8ff;}#sk-container-id-7 input.sk-toggleable__control:checked~div.sk-toggleable__content {max-height: 200px;max-width: 100%;overflow: auto;}#sk-container-id-7 input.sk-toggleable__control:checked~label.sk-toggleable__label-arrow:before {content: \"▾\";}#sk-container-id-7 div.sk-estimator input.sk-toggleable__control:checked~label.sk-toggleable__label {background-color: #d4ebff;}#sk-container-id-7 div.sk-label input.sk-toggleable__control:checked~label.sk-toggleable__label {background-color: #d4ebff;}#sk-container-id-7 input.sk-hidden--visually {border: 0;clip: rect(1px 1px 1px 1px);clip: rect(1px, 1px, 1px, 1px);height: 1px;margin: -1px;overflow: hidden;padding: 0;position: absolute;width: 1px;}#sk-container-id-7 div.sk-estimator {font-family: monospace;background-color: #f0f8ff;border: 1px dotted black;border-radius: 0.25em;box-sizing: border-box;margin-bottom: 0.5em;}#sk-container-id-7 div.sk-estimator:hover {background-color: #d4ebff;}#sk-container-id-7 div.sk-parallel-item::after {content: \"\";width: 100%;border-bottom: 1px solid gray;flex-grow: 1;}#sk-container-id-7 div.sk-label:hover label.sk-toggleable__label {background-color: #d4ebff;}#sk-container-id-7 div.sk-serial::before {content: \"\";position: absolute;border-left: 1px solid gray;box-sizing: border-box;top: 0;bottom: 0;left: 50%;z-index: 0;}#sk-container-id-7 div.sk-serial {display: flex;flex-direction: column;align-items: center;background-color: white;padding-right: 0.2em;padding-left: 0.2em;position: relative;}#sk-container-id-7 div.sk-item {position: relative;z-index: 1;}#sk-container-id-7 div.sk-parallel {display: flex;align-items: stretch;justify-content: center;background-color: white;position: relative;}#sk-container-id-7 div.sk-item::before, #sk-container-id-7 div.sk-parallel-item::before {content: \"\";position: absolute;border-left: 1px solid gray;box-sizing: border-box;top: 0;bottom: 0;left: 50%;z-index: -1;}#sk-container-id-7 div.sk-parallel-item {display: flex;flex-direction: column;z-index: 1;position: relative;background-color: white;}#sk-container-id-7 div.sk-parallel-item:first-child::after {align-self: flex-end;width: 50%;}#sk-container-id-7 div.sk-parallel-item:last-child::after {align-self: flex-start;width: 50%;}#sk-container-id-7 div.sk-parallel-item:only-child::after {width: 0;}#sk-container-id-7 div.sk-dashed-wrapped {border: 1px dashed gray;margin: 0 0.4em 0.5em 0.4em;box-sizing: border-box;padding-bottom: 0.4em;background-color: white;}#sk-container-id-7 div.sk-label label {font-family: monospace;font-weight: bold;display: inline-block;line-height: 1.2em;}#sk-container-id-7 div.sk-label-container {text-align: center;}#sk-container-id-7 div.sk-container {/* jupyter's `normalize.less` sets `[hidden] { display: none; }` but bootstrap.min.css set `[hidden] { display: none !important; }` so we also need the `!important` here to be able to override the default hidden behavior on the sphinx rendered scikit-learn.org. See: https://github.com/scikit-learn/scikit-learn/issues/21755 */display: inline-block !important;position: relative;}#sk-container-id-7 div.sk-text-repr-fallback {display: none;}</style><div id=\"sk-container-id-7\" class=\"sk-top-container\"><div class=\"sk-text-repr-fallback\"><pre>MLPClassifier(max_iter=10)</pre><b>In a Jupyter environment, please rerun this cell to show the HTML representation or trust the notebook. <br />On GitHub, the HTML representation is unable to render, please try loading this page with nbviewer.org.</b></div><div class=\"sk-container\" hidden><div class=\"sk-item\"><div class=\"sk-estimator sk-toggleable\"><input class=\"sk-toggleable__control sk-hidden--visually\" id=\"sk-estimator-id-7\" type=\"checkbox\" checked><label for=\"sk-estimator-id-7\" class=\"sk-toggleable__label sk-toggleable__label-arrow\">MLPClassifier</label><div class=\"sk-toggleable__content\"><pre>MLPClassifier(max_iter=10)</pre></div></div></div></div></div>"
      ],
      "text/plain": [
       "MLPClassifier(max_iter=10)"
      ]
     },
     "execution_count": 26,
     "metadata": {},
     "output_type": "execute_result"
    }
   ],
   "source": [
    "#20%treain, 80% test\n",
    "mlp_xTrain, mlp_xtest, mlp_yTrain, mlp_yTest = train_test_split(comment_vector, df, test_size=0.8)\n",
    "\n",
    "#Emotion classifier\n",
    "mlp_emotion_model2 = MLPClassifier(max_iter=10)\n",
    "mlp_emotion_model2.fit(mlp_xTrain, mlp_yTrain['emotion'])\n",
    "\n",
    "#Sentiment classifier\n",
    "mlp_sentiment_model2 = MLPClassifier(max_iter=10)\n",
    "mlp_sentiment_model2.fit(mlp_xTrain, mlp_yTrain['sentiment'])"
   ]
  },
  {
   "cell_type": "code",
   "execution_count": null,
   "metadata": {},
   "outputs": [],
   "source": []
  }
 ],
 "metadata": {
  "kernelspec": {
   "display_name": "Python 3 (ipykernel)",
   "language": "python",
   "name": "python3"
  },
  "language_info": {
   "codemirror_mode": {
    "name": "ipython",
    "version": 3
   },
   "file_extension": ".py",
   "mimetype": "text/x-python",
   "name": "python",
   "nbconvert_exporter": "python",
   "pygments_lexer": "ipython3",
   "version": "3.10.7"
  },
  "vscode": {
   "interpreter": {
    "hash": "c860c35d18726c3c1569783332c681b91c712b54a50e71552d824726cc59ec48"
   }
  }
 },
 "nbformat": 4,
 "nbformat_minor": 2
}
